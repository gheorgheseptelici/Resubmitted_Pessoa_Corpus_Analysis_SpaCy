{
 "cells": [
  {
   "cell_type": "markdown",
   "id": "72ec089a-db4b-4c26-8ca8-2cb205afac71",
   "metadata": {},
   "source": [
    "# Further Analysis and Plotting of the Pessoa Corpus:"
   ]
  },
  {
   "cell_type": "markdown",
   "id": "d66f5d5a-89a3-4e50-9080-2bb8bf62bf3a",
   "metadata": {},
   "source": [
    "### Introduction:\n",
    "\n",
    "This is a continuation of the analysis presented in the other Jupyter Notebook from this repository. The same processing of the documents is performed here, along with some basic analysis and plotting of some of the textual features in the three works present in the corpus. In order to obtain more accurate results one can replace spaCy's simple English Language model that is used in this code with the more advanced English models available from spaCy. For demonstration purposes and congruence with the previous Notebook the same language model was used here."
   ]
  },
  {
   "cell_type": "code",
   "execution_count": null,
   "id": "5c7d4271-ceb6-4b1d-9b75-b533e346810c",
   "metadata": {
    "scrolled": true
   },
   "outputs": [],
   "source": [
    "# Import spacy\n",
    "import spacy\n",
    "\n",
    "# Install English language model\n",
    "!spacy download en_core_web_sm\n",
    "\n",
    "# Import os to upload documents and metadata\n",
    "import os\n",
    "\n",
    "# Load spaCy visualizer\n",
    "from spacy import displacy\n",
    "\n",
    "# Import pandas DataFrame packages\n",
    "import pandas as pd\n",
    "pd.options.mode.chained_assignment = None  # default='warn'\n",
    "\n",
    "# Import graphing package\n",
    "import plotly.express as px\n",
    "\n",
    "# Import re (regular expressions package)\n",
    "import re"
   ]
  },
  {
   "cell_type": "code",
   "execution_count": 4,
   "id": "ea78af00-bb70-4802-a293-4dd99d4c6e79",
   "metadata": {},
   "outputs": [],
   "source": [
    "# Create empty lists for file names and contents\n",
    "texts = []\n",
    "file_names = []\n",
    "\n",
    "# Iterate through each file in the folder\n",
    "for _file_name in os.listdir('data'):\n",
    "# Look for only text files\n",
    "    if _file_name.endswith('.txt'):\n",
    "    # Append contents of each text file to text list\n",
    "        texts.append(open('data' + '/' + _file_name, 'r', encoding='utf-8').read())\n",
    "        # Append name of each file to file name list\n",
    "        file_names.append(_file_name)"
   ]
  },
  {
   "cell_type": "code",
   "execution_count": 5,
   "id": "34be2f23-fc05-41fd-b604-a885800f38c4",
   "metadata": {},
   "outputs": [],
   "source": [
    "# Create dictionary object associating each file name with its text\n",
    "d = {'Filename':file_names,'Document':texts}"
   ]
  },
  {
   "cell_type": "code",
   "execution_count": 6,
   "id": "58a82470-a52b-4360-9ee6-fb67dc9d0962",
   "metadata": {},
   "outputs": [],
   "source": [
    "# Import simple_cleaner module from gutenberg-cleaner\n",
    "from gutenberg_cleaner import simple_cleaner"
   ]
  },
  {
   "cell_type": "code",
   "execution_count": 7,
   "id": "17631e93-779b-48ee-8cb7-cbba115a723d",
   "metadata": {},
   "outputs": [],
   "source": [
    "# Turn dictionary into a dataframe\n",
    "text_df = pd.DataFrame(d)"
   ]
  },
  {
   "cell_type": "code",
   "execution_count": 8,
   "id": "0a13649f-b115-41ad-8aea-16bba8952d93",
   "metadata": {},
   "outputs": [
    {
     "data": {
      "text/html": [
       "<div>\n",
       "<style scoped>\n",
       "    .dataframe tbody tr th:only-of-type {\n",
       "        vertical-align: middle;\n",
       "    }\n",
       "\n",
       "    .dataframe tbody tr th {\n",
       "        vertical-align: top;\n",
       "    }\n",
       "\n",
       "    .dataframe thead th {\n",
       "        text-align: right;\n",
       "    }\n",
       "</style>\n",
       "<table border=\"1\" class=\"dataframe\">\n",
       "  <thead>\n",
       "    <tr style=\"text-align: right;\">\n",
       "      <th></th>\n",
       "      <th>Filename</th>\n",
       "      <th>Document</th>\n",
       "    </tr>\n",
       "  </thead>\n",
       "  <tbody>\n",
       "    <tr>\n",
       "      <th>0</th>\n",
       "      <td>19978.txt</td>\n",
       "      <td>﻿The Project Gutenberg eBook of 35 Sonnets\\n  ...</td>\n",
       "    </tr>\n",
       "    <tr>\n",
       "      <th>1</th>\n",
       "      <td>66039.txt</td>\n",
       "      <td>﻿The Project Gutenberg eBook of English Poems,...</td>\n",
       "    </tr>\n",
       "    <tr>\n",
       "      <th>2</th>\n",
       "      <td>66040.txt</td>\n",
       "      <td>﻿The Project Gutenberg eBook of English Poems,...</td>\n",
       "    </tr>\n",
       "  </tbody>\n",
       "</table>\n",
       "</div>"
      ],
      "text/plain": [
       "    Filename                                           Document\n",
       "0  19978.txt  ﻿The Project Gutenberg eBook of 35 Sonnets\\n  ...\n",
       "1  66039.txt  ﻿The Project Gutenberg eBook of English Poems,...\n",
       "2  66040.txt  ﻿The Project Gutenberg eBook of English Poems,..."
      ]
     },
     "execution_count": 8,
     "metadata": {},
     "output_type": "execute_result"
    }
   ],
   "source": [
    "text_df.head()"
   ]
  },
  {
   "cell_type": "code",
   "execution_count": 9,
   "id": "7932bcc7-eab5-43ff-8030-405dde8c0731",
   "metadata": {},
   "outputs": [],
   "source": [
    "text_df['Raw_text'] = text_df['Document'].apply(simple_cleaner)"
   ]
  },
  {
   "cell_type": "code",
   "execution_count": 10,
   "id": "0fb01d68-9470-4d38-8c81-cdf692ad1bb0",
   "metadata": {},
   "outputs": [],
   "source": [
    "# Remove unwanted characters from the text using re\n",
    "\n",
    "# Define the function clean_text\n",
    "def clean_text(text):\n",
    "    # substitute new line \\n, carriage return \\r and tab \\t characters with whitespace and return the cleaned text\n",
    "    return re.sub(r'[\\r\\n\\t]+', ' ', text).strip()\n",
    "\n",
    "# Apply the function to the Dataframe column containing our texts\n",
    "text_df['Raw_text'] = text_df['Raw_text'].apply(clean_text)\n",
    "\n",
    "# Remove .txt from title of each paper\n",
    "text_df['Filename'] = text_df['Filename'].str.replace('.txt', '', regex=True)"
   ]
  },
  {
   "cell_type": "code",
   "execution_count": 11,
   "id": "16224b25-c777-46ba-b0de-b7b93caeb627",
   "metadata": {},
   "outputs": [],
   "source": [
    "# Load the Gutenberg metadata csv\n",
    "metadata_df = pd.read_csv('data/pg_catalog.csv')\n",
    "\n",
    "# List of Gutenberg IDs for the chosen books\n",
    "chosen_book_ids = [19978, 66039, 66040]  # Extract only the metadata for the three texts by Pessoa in our corpus\n",
    "\n",
    "# Filter the DataFrame to include only rows with these IDs\n",
    "filtered_metadata = metadata_df[metadata_df['Text#'].isin(chosen_book_ids)]"
   ]
  },
  {
   "cell_type": "code",
   "execution_count": 12,
   "id": "82f5b315-91ac-477c-b972-cfc7a563104f",
   "metadata": {},
   "outputs": [],
   "source": [
    "# Assign the created pessoa_metadata.csv to the metadata dataframe\n",
    "metadata_df = pd.read_csv('pessoa_gutenberg_metadata.csv')"
   ]
  },
  {
   "cell_type": "code",
   "execution_count": 13,
   "id": "5025cf0e-2ea3-499d-b851-da84d5107a0d",
   "metadata": {},
   "outputs": [],
   "source": [
    "# Rename column from Title to Filename in order to merge the two tables\n",
    "metadata_df.rename(columns={\"Text#\": \"Filename\"}, inplace=True)"
   ]
  },
  {
   "cell_type": "code",
   "execution_count": 14,
   "id": "e3141bdb-6652-4678-9bf4-78b8a641e948",
   "metadata": {},
   "outputs": [],
   "source": [
    "# Convert the data type of the Filename column into strings to allow the merging of the metadata and text tables in the next step\n",
    "metadata_df['Filename'] = metadata_df['Filename'].astype(str)"
   ]
  },
  {
   "cell_type": "code",
   "execution_count": 15,
   "id": "e88d77b7-aed2-4030-99ef-3fd8e143ff2b",
   "metadata": {},
   "outputs": [
    {
     "data": {
      "text/html": [
       "<div>\n",
       "<style scoped>\n",
       "    .dataframe tbody tr th:only-of-type {\n",
       "        vertical-align: middle;\n",
       "    }\n",
       "\n",
       "    .dataframe tbody tr th {\n",
       "        vertical-align: top;\n",
       "    }\n",
       "\n",
       "    .dataframe thead th {\n",
       "        text-align: right;\n",
       "    }\n",
       "</style>\n",
       "<table border=\"1\" class=\"dataframe\">\n",
       "  <thead>\n",
       "    <tr style=\"text-align: right;\">\n",
       "      <th></th>\n",
       "      <th>Filename</th>\n",
       "      <th>Type</th>\n",
       "      <th>Issued</th>\n",
       "      <th>Title</th>\n",
       "      <th>Language</th>\n",
       "      <th>Authors</th>\n",
       "      <th>Subjects</th>\n",
       "      <th>LoCC</th>\n",
       "      <th>Bookshelves</th>\n",
       "      <th>Document</th>\n",
       "      <th>Raw_text</th>\n",
       "    </tr>\n",
       "  </thead>\n",
       "  <tbody>\n",
       "    <tr>\n",
       "      <th>0</th>\n",
       "      <td>19978</td>\n",
       "      <td>Text</td>\n",
       "      <td>2006-11-30</td>\n",
       "      <td>35 Sonnets</td>\n",
       "      <td>en</td>\n",
       "      <td>Pessoa, Fernando, 1888-1935</td>\n",
       "      <td>Poetry</td>\n",
       "      <td>PQ</td>\n",
       "      <td>Browsing: Literature; Browsing: Poetry</td>\n",
       "      <td>﻿The Project Gutenberg eBook of 35 Sonnets\\n  ...</td>\n",
       "      <td>35 Sonnets by Fernando Pessoa I. Whether we wr...</td>\n",
       "    </tr>\n",
       "    <tr>\n",
       "      <th>1</th>\n",
       "      <td>66039</td>\n",
       "      <td>Text</td>\n",
       "      <td>2021-08-11</td>\n",
       "      <td>English Poems, Volume 01 (of 2)</td>\n",
       "      <td>en</td>\n",
       "      <td>Pessoa, Fernando, 1888-1935</td>\n",
       "      <td>Poetry</td>\n",
       "      <td>PQ</td>\n",
       "      <td>Browsing: Literature; Browsing: Poetry</td>\n",
       "      <td>﻿The Project Gutenberg eBook of English Poems,...</td>\n",
       "      <td>ENGLISH POEMS BY FERNANDO PESSOA I.--ANTINOUS ...</td>\n",
       "    </tr>\n",
       "    <tr>\n",
       "      <th>2</th>\n",
       "      <td>66040</td>\n",
       "      <td>Text</td>\n",
       "      <td>2021-08-11</td>\n",
       "      <td>English Poems, Volume 02 (of 2)</td>\n",
       "      <td>en</td>\n",
       "      <td>Pessoa, Fernando, 1888-1935</td>\n",
       "      <td>Poetry</td>\n",
       "      <td>PQ</td>\n",
       "      <td>Browsing: Literature; Browsing: Poetry</td>\n",
       "      <td>﻿The Project Gutenberg eBook of English Poems,...</td>\n",
       "      <td>ENGLISH POEMS BY FERNANDO PESSOA III EPITHALAM...</td>\n",
       "    </tr>\n",
       "  </tbody>\n",
       "</table>\n",
       "</div>"
      ],
      "text/plain": [
       "  Filename  Type      Issued                            Title Language  \\\n",
       "0    19978  Text  2006-11-30                       35 Sonnets       en   \n",
       "1    66039  Text  2021-08-11  English Poems, Volume 01 (of 2)       en   \n",
       "2    66040  Text  2021-08-11  English Poems, Volume 02 (of 2)       en   \n",
       "\n",
       "                       Authors Subjects LoCC  \\\n",
       "0  Pessoa, Fernando, 1888-1935   Poetry   PQ   \n",
       "1  Pessoa, Fernando, 1888-1935   Poetry   PQ   \n",
       "2  Pessoa, Fernando, 1888-1935   Poetry   PQ   \n",
       "\n",
       "                              Bookshelves  \\\n",
       "0  Browsing: Literature; Browsing: Poetry   \n",
       "1  Browsing: Literature; Browsing: Poetry   \n",
       "2  Browsing: Literature; Browsing: Poetry   \n",
       "\n",
       "                                            Document  \\\n",
       "0  ﻿The Project Gutenberg eBook of 35 Sonnets\\n  ...   \n",
       "1  ﻿The Project Gutenberg eBook of English Poems,...   \n",
       "2  ﻿The Project Gutenberg eBook of English Poems,...   \n",
       "\n",
       "                                            Raw_text  \n",
       "0  35 Sonnets by Fernando Pessoa I. Whether we wr...  \n",
       "1  ENGLISH POEMS BY FERNANDO PESSOA I.--ANTINOUS ...  \n",
       "2  ENGLISH POEMS BY FERNANDO PESSOA III EPITHALAM...  "
      ]
     },
     "execution_count": 15,
     "metadata": {},
     "output_type": "execute_result"
    }
   ],
   "source": [
    "# Merge the files to their metadata in a new DataFrame\n",
    "pessoa_df = metadata_df.merge(text_df,on='Filename')\n",
    "pessoa_df.head()"
   ]
  },
  {
   "cell_type": "code",
   "execution_count": 16,
   "id": "e17970c0-86c9-4765-ae53-e74e66a23a47",
   "metadata": {},
   "outputs": [
    {
     "name": "stdout",
     "output_type": "stream",
     "text": [
      "['tok2vec', 'tagger', 'parser', 'attribute_ruler', 'lemmatizer', 'ner']\n"
     ]
    }
   ],
   "source": [
    "# Load nlp pipeline\n",
    "nlp = spacy.load('en_core_web_sm')\n",
    "\n",
    "# Check what functions it performs\n",
    "print(nlp.pipe_names)"
   ]
  },
  {
   "cell_type": "code",
   "execution_count": 17,
   "id": "f5e486c6-2402-4b92-90b7-95e93240381c",
   "metadata": {},
   "outputs": [],
   "source": [
    "# Define a function that runs the nlp pipeline on any given input text\n",
    "def process_text(text):\n",
    "    return nlp(text)"
   ]
  },
  {
   "cell_type": "code",
   "execution_count": 18,
   "id": "60f57500-031a-49e0-b798-b1fc50d70190",
   "metadata": {},
   "outputs": [
    {
     "data": {
      "text/html": [
       "<div>\n",
       "<style scoped>\n",
       "    .dataframe tbody tr th:only-of-type {\n",
       "        vertical-align: middle;\n",
       "    }\n",
       "\n",
       "    .dataframe tbody tr th {\n",
       "        vertical-align: top;\n",
       "    }\n",
       "\n",
       "    .dataframe thead th {\n",
       "        text-align: right;\n",
       "    }\n",
       "</style>\n",
       "<table border=\"1\" class=\"dataframe\">\n",
       "  <thead>\n",
       "    <tr style=\"text-align: right;\">\n",
       "      <th></th>\n",
       "      <th>Filename</th>\n",
       "      <th>Type</th>\n",
       "      <th>Issued</th>\n",
       "      <th>Title</th>\n",
       "      <th>Language</th>\n",
       "      <th>Authors</th>\n",
       "      <th>Subjects</th>\n",
       "      <th>LoCC</th>\n",
       "      <th>Bookshelves</th>\n",
       "      <th>Document</th>\n",
       "      <th>Raw_text</th>\n",
       "      <th>Doc</th>\n",
       "    </tr>\n",
       "  </thead>\n",
       "  <tbody>\n",
       "    <tr>\n",
       "      <th>0</th>\n",
       "      <td>19978</td>\n",
       "      <td>Text</td>\n",
       "      <td>2006-11-30</td>\n",
       "      <td>35 Sonnets</td>\n",
       "      <td>en</td>\n",
       "      <td>Pessoa, Fernando, 1888-1935</td>\n",
       "      <td>Poetry</td>\n",
       "      <td>PQ</td>\n",
       "      <td>Browsing: Literature; Browsing: Poetry</td>\n",
       "      <td>﻿The Project Gutenberg eBook of 35 Sonnets\\n  ...</td>\n",
       "      <td>35 Sonnets by Fernando Pessoa I. Whether we wr...</td>\n",
       "      <td>(35, Sonnets, by, Fernando, Pessoa, I., Whethe...</td>\n",
       "    </tr>\n",
       "    <tr>\n",
       "      <th>1</th>\n",
       "      <td>66039</td>\n",
       "      <td>Text</td>\n",
       "      <td>2021-08-11</td>\n",
       "      <td>English Poems, Volume 01 (of 2)</td>\n",
       "      <td>en</td>\n",
       "      <td>Pessoa, Fernando, 1888-1935</td>\n",
       "      <td>Poetry</td>\n",
       "      <td>PQ</td>\n",
       "      <td>Browsing: Literature; Browsing: Poetry</td>\n",
       "      <td>﻿The Project Gutenberg eBook of English Poems,...</td>\n",
       "      <td>ENGLISH POEMS BY FERNANDO PESSOA I.--ANTINOUS ...</td>\n",
       "      <td>(ENGLISH, POEMS, BY, FERNANDO, PESSOA, I.--ANT...</td>\n",
       "    </tr>\n",
       "    <tr>\n",
       "      <th>2</th>\n",
       "      <td>66040</td>\n",
       "      <td>Text</td>\n",
       "      <td>2021-08-11</td>\n",
       "      <td>English Poems, Volume 02 (of 2)</td>\n",
       "      <td>en</td>\n",
       "      <td>Pessoa, Fernando, 1888-1935</td>\n",
       "      <td>Poetry</td>\n",
       "      <td>PQ</td>\n",
       "      <td>Browsing: Literature; Browsing: Poetry</td>\n",
       "      <td>﻿The Project Gutenberg eBook of English Poems,...</td>\n",
       "      <td>ENGLISH POEMS BY FERNANDO PESSOA III EPITHALAM...</td>\n",
       "      <td>(ENGLISH, POEMS, BY, FERNANDO, PESSOA, III, EP...</td>\n",
       "    </tr>\n",
       "  </tbody>\n",
       "</table>\n",
       "</div>"
      ],
      "text/plain": [
       "  Filename  Type      Issued                            Title Language  \\\n",
       "0    19978  Text  2006-11-30                       35 Sonnets       en   \n",
       "1    66039  Text  2021-08-11  English Poems, Volume 01 (of 2)       en   \n",
       "2    66040  Text  2021-08-11  English Poems, Volume 02 (of 2)       en   \n",
       "\n",
       "                       Authors Subjects LoCC  \\\n",
       "0  Pessoa, Fernando, 1888-1935   Poetry   PQ   \n",
       "1  Pessoa, Fernando, 1888-1935   Poetry   PQ   \n",
       "2  Pessoa, Fernando, 1888-1935   Poetry   PQ   \n",
       "\n",
       "                              Bookshelves  \\\n",
       "0  Browsing: Literature; Browsing: Poetry   \n",
       "1  Browsing: Literature; Browsing: Poetry   \n",
       "2  Browsing: Literature; Browsing: Poetry   \n",
       "\n",
       "                                            Document  \\\n",
       "0  ﻿The Project Gutenberg eBook of 35 Sonnets\\n  ...   \n",
       "1  ﻿The Project Gutenberg eBook of English Poems,...   \n",
       "2  ﻿The Project Gutenberg eBook of English Poems,...   \n",
       "\n",
       "                                            Raw_text  \\\n",
       "0  35 Sonnets by Fernando Pessoa I. Whether we wr...   \n",
       "1  ENGLISH POEMS BY FERNANDO PESSOA I.--ANTINOUS ...   \n",
       "2  ENGLISH POEMS BY FERNANDO PESSOA III EPITHALAM...   \n",
       "\n",
       "                                                 Doc  \n",
       "0  (35, Sonnets, by, Fernando, Pessoa, I., Whethe...  \n",
       "1  (ENGLISH, POEMS, BY, FERNANDO, PESSOA, I.--ANT...  \n",
       "2  (ENGLISH, POEMS, BY, FERNANDO, PESSOA, III, EP...  "
      ]
     },
     "execution_count": 18,
     "metadata": {},
     "output_type": "execute_result"
    }
   ],
   "source": [
    "# Apply the function to the \"Raw_text\" column, so that the nlp pipeline is called on each of the three Pessoa works in our corpus\n",
    "pessoa_df['Doc'] = pessoa_df['Raw_text'].apply(process_text)\n",
    "pessoa_df.head()"
   ]
  },
  {
   "cell_type": "code",
   "execution_count": 19,
   "id": "2e9fd584-9bbf-4837-852c-abdd24c07319",
   "metadata": {},
   "outputs": [],
   "source": [
    "# Define a function to retrieve tokens from a doc object\n",
    "def get_token(doc):\n",
    "    return [(token.text) for token in doc]"
   ]
  },
  {
   "cell_type": "code",
   "execution_count": 20,
   "id": "6b6bc12c-001d-4a7f-b9d0-413332682aae",
   "metadata": {},
   "outputs": [],
   "source": [
    "# Run the token retrieval function on the doc objects in the dataframe\n",
    "pessoa_df['Tokens'] = pessoa_df['Doc'].apply(get_token)"
   ]
  },
  {
   "cell_type": "code",
   "execution_count": 21,
   "id": "88395fb8-b0f3-480c-9824-9588e790315a",
   "metadata": {},
   "outputs": [],
   "source": [
    "# Define a function to retrieve lemmas from a doc object\n",
    "def get_lemma(doc):\n",
    "    return [(token.lemma_) for token in doc]\n",
    "\n",
    "# Run the lemma retrieval function on the doc objects in the dataframe\n",
    "pessoa_df['Lemmas'] = pessoa_df['Doc'].apply(get_lemma)"
   ]
  },
  {
   "cell_type": "code",
   "execution_count": 22,
   "id": "3f92dd91-ad39-43e2-970f-4b0a22687628",
   "metadata": {},
   "outputs": [],
   "source": [
    "# Define a function to retrieve part-of-speech from a doc object\n",
    "def get_pos(doc):\n",
    "    #Return the coarse- and fine-grained part of speech text for each token in the doc\n",
    "    return [(token.pos_, token.tag_) for token in doc]\n",
    "\n",
    "# Define a function to retrieve parts of speech from a doc object\n",
    "pessoa_df['POS'] = pessoa_df['Doc'].apply(get_pos)"
   ]
  },
  {
   "cell_type": "code",
   "execution_count": 23,
   "id": "d20510dd-149b-47e1-a305-e0b334439118",
   "metadata": {},
   "outputs": [
    {
     "data": {
      "text/html": [
       "<div>\n",
       "<style scoped>\n",
       "    .dataframe tbody tr th:only-of-type {\n",
       "        vertical-align: middle;\n",
       "    }\n",
       "\n",
       "    .dataframe tbody tr th {\n",
       "        vertical-align: top;\n",
       "    }\n",
       "\n",
       "    .dataframe thead th {\n",
       "        text-align: right;\n",
       "    }\n",
       "</style>\n",
       "<table border=\"1\" class=\"dataframe\">\n",
       "  <thead>\n",
       "    <tr style=\"text-align: right;\">\n",
       "      <th></th>\n",
       "      <th>Filename</th>\n",
       "      <th>Type</th>\n",
       "      <th>Issued</th>\n",
       "      <th>Title</th>\n",
       "      <th>Language</th>\n",
       "      <th>Authors</th>\n",
       "      <th>Subjects</th>\n",
       "      <th>LoCC</th>\n",
       "      <th>Bookshelves</th>\n",
       "      <th>Document</th>\n",
       "      <th>Raw_text</th>\n",
       "      <th>Doc</th>\n",
       "      <th>Tokens</th>\n",
       "      <th>Lemmas</th>\n",
       "      <th>POS</th>\n",
       "      <th>Proper_Nouns</th>\n",
       "    </tr>\n",
       "  </thead>\n",
       "  <tbody>\n",
       "    <tr>\n",
       "      <th>0</th>\n",
       "      <td>19978</td>\n",
       "      <td>Text</td>\n",
       "      <td>2006-11-30</td>\n",
       "      <td>35 Sonnets</td>\n",
       "      <td>en</td>\n",
       "      <td>Pessoa, Fernando, 1888-1935</td>\n",
       "      <td>Poetry</td>\n",
       "      <td>PQ</td>\n",
       "      <td>Browsing: Literature; Browsing: Poetry</td>\n",
       "      <td>﻿The Project Gutenberg eBook of 35 Sonnets\\n  ...</td>\n",
       "      <td>35 Sonnets by Fernando Pessoa I. Whether we wr...</td>\n",
       "      <td>(35, Sonnets, by, Fernando, Pessoa, I., Whethe...</td>\n",
       "      <td>[35, Sonnets, by, Fernando, Pessoa, I., Whethe...</td>\n",
       "      <td>[35, Sonnets, by, Fernando, Pessoa, I., whethe...</td>\n",
       "      <td>[(NUM, CD), (PROPN, NNPS), (ADP, IN), (PROPN, ...</td>\n",
       "      <td>[Sonnets, Fernando, Pessoa, I., Joy, Haply, Tr...</td>\n",
       "    </tr>\n",
       "    <tr>\n",
       "      <th>1</th>\n",
       "      <td>66039</td>\n",
       "      <td>Text</td>\n",
       "      <td>2021-08-11</td>\n",
       "      <td>English Poems, Volume 01 (of 2)</td>\n",
       "      <td>en</td>\n",
       "      <td>Pessoa, Fernando, 1888-1935</td>\n",
       "      <td>Poetry</td>\n",
       "      <td>PQ</td>\n",
       "      <td>Browsing: Literature; Browsing: Poetry</td>\n",
       "      <td>﻿The Project Gutenberg eBook of English Poems,...</td>\n",
       "      <td>ENGLISH POEMS BY FERNANDO PESSOA I.--ANTINOUS ...</td>\n",
       "      <td>(ENGLISH, POEMS, BY, FERNANDO, PESSOA, I.--ANT...</td>\n",
       "      <td>[ENGLISH, POEMS, BY, FERNANDO, PESSOA, I.--ANT...</td>\n",
       "      <td>[ENGLISH, poems, by, FERNANDO, PESSOA, I.--ANT...</td>\n",
       "      <td>[(PROPN, NNP), (NOUN, NN), (NOUN, NN), (PROPN,...</td>\n",
       "      <td>[ENGLISH, FERNANDO, PESSOA, APARTADO, _, Antin...</td>\n",
       "    </tr>\n",
       "    <tr>\n",
       "      <th>2</th>\n",
       "      <td>66040</td>\n",
       "      <td>Text</td>\n",
       "      <td>2021-08-11</td>\n",
       "      <td>English Poems, Volume 02 (of 2)</td>\n",
       "      <td>en</td>\n",
       "      <td>Pessoa, Fernando, 1888-1935</td>\n",
       "      <td>Poetry</td>\n",
       "      <td>PQ</td>\n",
       "      <td>Browsing: Literature; Browsing: Poetry</td>\n",
       "      <td>﻿The Project Gutenberg eBook of English Poems,...</td>\n",
       "      <td>ENGLISH POEMS BY FERNANDO PESSOA III EPITHALAM...</td>\n",
       "      <td>(ENGLISH, POEMS, BY, FERNANDO, PESSOA, III, EP...</td>\n",
       "      <td>[ENGLISH, POEMS, BY, FERNANDO, PESSOA, III, EP...</td>\n",
       "      <td>[ENGLISH, poems, by, FERNANDO, PESSOA, III, EP...</td>\n",
       "      <td>[(PROPN, NNP), (NOUN, NN), (NOUN, NN), (PROPN,...</td>\n",
       "      <td>[ENGLISH, FERNANDO, PESSOA, III, EPITHALAMIUM,...</td>\n",
       "    </tr>\n",
       "  </tbody>\n",
       "</table>\n",
       "</div>"
      ],
      "text/plain": [
       "  Filename  Type      Issued                            Title Language  \\\n",
       "0    19978  Text  2006-11-30                       35 Sonnets       en   \n",
       "1    66039  Text  2021-08-11  English Poems, Volume 01 (of 2)       en   \n",
       "2    66040  Text  2021-08-11  English Poems, Volume 02 (of 2)       en   \n",
       "\n",
       "                       Authors Subjects LoCC  \\\n",
       "0  Pessoa, Fernando, 1888-1935   Poetry   PQ   \n",
       "1  Pessoa, Fernando, 1888-1935   Poetry   PQ   \n",
       "2  Pessoa, Fernando, 1888-1935   Poetry   PQ   \n",
       "\n",
       "                              Bookshelves  \\\n",
       "0  Browsing: Literature; Browsing: Poetry   \n",
       "1  Browsing: Literature; Browsing: Poetry   \n",
       "2  Browsing: Literature; Browsing: Poetry   \n",
       "\n",
       "                                            Document  \\\n",
       "0  ﻿The Project Gutenberg eBook of 35 Sonnets\\n  ...   \n",
       "1  ﻿The Project Gutenberg eBook of English Poems,...   \n",
       "2  ﻿The Project Gutenberg eBook of English Poems,...   \n",
       "\n",
       "                                            Raw_text  \\\n",
       "0  35 Sonnets by Fernando Pessoa I. Whether we wr...   \n",
       "1  ENGLISH POEMS BY FERNANDO PESSOA I.--ANTINOUS ...   \n",
       "2  ENGLISH POEMS BY FERNANDO PESSOA III EPITHALAM...   \n",
       "\n",
       "                                                 Doc  \\\n",
       "0  (35, Sonnets, by, Fernando, Pessoa, I., Whethe...   \n",
       "1  (ENGLISH, POEMS, BY, FERNANDO, PESSOA, I.--ANT...   \n",
       "2  (ENGLISH, POEMS, BY, FERNANDO, PESSOA, III, EP...   \n",
       "\n",
       "                                              Tokens  \\\n",
       "0  [35, Sonnets, by, Fernando, Pessoa, I., Whethe...   \n",
       "1  [ENGLISH, POEMS, BY, FERNANDO, PESSOA, I.--ANT...   \n",
       "2  [ENGLISH, POEMS, BY, FERNANDO, PESSOA, III, EP...   \n",
       "\n",
       "                                              Lemmas  \\\n",
       "0  [35, Sonnets, by, Fernando, Pessoa, I., whethe...   \n",
       "1  [ENGLISH, poems, by, FERNANDO, PESSOA, I.--ANT...   \n",
       "2  [ENGLISH, poems, by, FERNANDO, PESSOA, III, EP...   \n",
       "\n",
       "                                                 POS  \\\n",
       "0  [(NUM, CD), (PROPN, NNPS), (ADP, IN), (PROPN, ...   \n",
       "1  [(PROPN, NNP), (NOUN, NN), (NOUN, NN), (PROPN,...   \n",
       "2  [(PROPN, NNP), (NOUN, NN), (NOUN, NN), (PROPN,...   \n",
       "\n",
       "                                        Proper_Nouns  \n",
       "0  [Sonnets, Fernando, Pessoa, I., Joy, Haply, Tr...  \n",
       "1  [ENGLISH, FERNANDO, PESSOA, APARTADO, _, Antin...  \n",
       "2  [ENGLISH, FERNANDO, PESSOA, III, EPITHALAMIUM,...  "
      ]
     },
     "execution_count": 23,
     "metadata": {},
     "output_type": "execute_result"
    }
   ],
   "source": [
    "# Define function to extract proper nouns from Doc object\n",
    "def extract_proper_nouns(doc):\n",
    "    return [token.text for token in doc if token.pos_ == 'PROPN']\n",
    "\n",
    "# Apply function to Doc column and store resulting proper nouns in new column\n",
    "pessoa_df['Proper_Nouns'] = pessoa_df['Doc'].apply(extract_proper_nouns)\n",
    "pessoa_df.head()"
   ]
  },
  {
   "cell_type": "markdown",
   "id": "7f0512a2-f094-4f68-8791-e1996b939b45",
   "metadata": {},
   "source": [
    "### Data exploration and visualization:\n",
    "\n",
    "From here onwards we will be using the Named Entity Recognition pipeline in spaCy and explore how accurately it can detect and label features in our texts. The list of available labels that spaCy operates with will be displayed below. Additionally, we will use spaCy to detect and count the parts-of-speech found in each text and plot some graphs to visualize this data. Lastly, we will critically reflect on spaCy's possibilities to work with poems, which rely heavily on abstract language and metaphors, specifically in the pursuit of labeling and annotating textual features. \n",
    "\n",
    "Before beginning, it is noteworthy to reiterate that this Notebook operates with spaCy's simple English language model to stay congruent with the original Notebook in this repository. Thus, any possible assertion about encountered limitations will pertain to our use of this specific language model. Other, more advanced language models, might disprove a lot of the claims made here."
   ]
  },
  {
   "cell_type": "code",
   "execution_count": 24,
   "id": "197133cd-1b1a-4c77-831e-7a440e626ead",
   "metadata": {},
   "outputs": [
    {
     "name": "stdout",
     "output_type": "stream",
     "text": [
      "CARDINAL : Numerals that do not fall under another type\n",
      "DATE : Absolute or relative dates or periods\n",
      "EVENT : Named hurricanes, battles, wars, sports events, etc.\n",
      "FAC : Buildings, airports, highways, bridges, etc.\n",
      "GPE : Countries, cities, states\n",
      "LANGUAGE : Any named language\n",
      "LAW : Named documents made into laws.\n",
      "LOC : Non-GPE locations, mountain ranges, bodies of water\n",
      "MONEY : Monetary values, including unit\n",
      "NORP : Nationalities or religious or political groups\n",
      "ORDINAL : \"first\", \"second\", etc.\n",
      "ORG : Companies, agencies, institutions, etc.\n",
      "PERCENT : Percentage, including \"%\"\n",
      "PERSON : People, including fictional\n",
      "PRODUCT : Objects, vehicles, foods, etc. (not services)\n",
      "QUANTITY : Measurements, as of weight or distance\n",
      "TIME : Times smaller than a day\n",
      "WORK_OF_ART : Titles of books, songs, etc.\n"
     ]
    }
   ],
   "source": [
    "# Get all NE labels and assign to variable\n",
    "labels = nlp.get_pipe(\"ner\").labels\n",
    "\n",
    "# Print each label and its description\n",
    "for label in labels:\n",
    "    print(label + ' : ' + spacy.explain(label))"
   ]
  },
  {
   "cell_type": "code",
   "execution_count": 25,
   "id": "af5eeae6-bab0-46be-a562-a59e2663b693",
   "metadata": {},
   "outputs": [
    {
     "data": {
      "text/plain": [
       "0    [CARDINAL, PERSON, PERSON, ORG, PERSON, ORG, D...\n",
       "1    [DATE, DATE, PERSON, ORG, ORG, PERSON, DATE, P...\n",
       "2    [PRODUCT, DATE, PERSON, PERSON, TIME, DATE, CA...\n",
       "Name: Named_Entities, dtype: object"
      ]
     },
     "execution_count": 25,
     "metadata": {},
     "output_type": "execute_result"
    }
   ],
   "source": [
    "# Define function to extract named entities from doc objects\n",
    "def extract_named_entities(doc):\n",
    "    return [ent.label_ for ent in doc.ents]\n",
    "\n",
    "# Apply function to Doc column and store resulting named entities in new column\n",
    "pessoa_df['Named_Entities'] = pessoa_df['Doc'].apply(extract_named_entities)\n",
    "pessoa_df['Named_Entities']"
   ]
  },
  {
   "cell_type": "code",
   "execution_count": 26,
   "id": "b3db8d90-976b-4d3d-909c-6585f4038a92",
   "metadata": {},
   "outputs": [
    {
     "data": {
      "text/plain": [
       "0    [(35), (Fernando, Pessoa, I.), (Joy), (Haply, ...\n",
       "1    [(145, 1921), (1918), (INDEX, I.--ANTINOUS), (...\n",
       "2    [(145, 1921), (this, day), (Tis), (Risen), (la...\n",
       "Name: NE_Words, dtype: object"
      ]
     },
     "execution_count": 26,
     "metadata": {},
     "output_type": "execute_result"
    }
   ],
   "source": [
    "# Define function to extract text tagged with named entities from doc objects\n",
    "def extract_named_entities(doc):\n",
    "    return [ent for ent in doc.ents]\n",
    "\n",
    "# Apply function to Doc column and store resulting text in new column\n",
    "pessoa_df['NE_Words'] = pessoa_df['Doc'].apply(extract_named_entities)\n",
    "pessoa_df['NE_Words']"
   ]
  },
  {
   "cell_type": "code",
   "execution_count": 27,
   "id": "b4310cc5-9c23-4274-a05c-ad685a4b04c9",
   "metadata": {
    "scrolled": true
   },
   "outputs": [
    {
     "data": {
      "text/html": [
       "<span class=\"tex2jax_ignore\"><div class=\"entities\" style=\"line-height: 2.5; direction: ltr\">\n",
       "<mark class=\"entity\" style=\"background: #e4e7d2; padding: 0.45em 0.6em; margin: 0 0.25em; line-height: 1; border-radius: 0.35em;\">\n",
       "    35\n",
       "    <span style=\"font-size: 0.8em; font-weight: bold; line-height: 1; border-radius: 0.35em; vertical-align: middle; margin-left: 0.5rem\">CARDINAL</span>\n",
       "</mark>\n",
       " Sonnets by \n",
       "<mark class=\"entity\" style=\"background: #aa9cfc; padding: 0.45em 0.6em; margin: 0 0.25em; line-height: 1; border-radius: 0.35em;\">\n",
       "    Fernando Pessoa I.\n",
       "    <span style=\"font-size: 0.8em; font-weight: bold; line-height: 1; border-radius: 0.35em; vertical-align: middle; margin-left: 0.5rem\">PERSON</span>\n",
       "</mark>\n",
       " Whether we write or speak or do but look We are ever unapparent. What we are Cannot be transfused into word or book. Our soul from us is infinitely far. However much we give our thoughts the will To be our soul and gesture it abroad, Our hearts are incommunicable still. In what we show ourselves we are ignored. The abyss from soul to soul cannot be bridged By any skill of thought or trick of seeming. Unto our very selves we are abridged When we would utter to our thought our being.     We are our dreams of ourselves, souls by gleams,     And each to each other dreams of others’ dreams. II. If that apparent part of life’s delight Our tingled flesh-sense circumscribes were seen By aught save reflex and co-carnal sight, \n",
       "<mark class=\"entity\" style=\"background: #aa9cfc; padding: 0.45em 0.6em; margin: 0 0.25em; line-height: 1; border-radius: 0.35em;\">\n",
       "    Joy\n",
       "    <span style=\"font-size: 0.8em; font-weight: bold; line-height: 1; border-radius: 0.35em; vertical-align: middle; margin-left: 0.5rem\">PERSON</span>\n",
       "</mark>\n",
       ", flesh and life might prove but a gross screen. \n",
       "<mark class=\"entity\" style=\"background: #7aecec; padding: 0.45em 0.6em; margin: 0 0.25em; line-height: 1; border-radius: 0.35em;\">\n",
       "    Haply Truth’s\n",
       "    <span style=\"font-size: 0.8em; font-weight: bold; line-height: 1; border-radius: 0.35em; vertical-align: middle; margin-left: 0.5rem\">ORG</span>\n",
       "</mark>\n",
       " body is no eyable being, \n",
       "<mark class=\"entity\" style=\"background: #aa9cfc; padding: 0.45em 0.6em; margin: 0 0.25em; line-height: 1; border-radius: 0.35em;\">\n",
       "    Appearance\n",
       "    <span style=\"font-size: 0.8em; font-weight: bold; line-height: 1; border-radius: 0.35em; vertical-align: middle; margin-left: 0.5rem\">PERSON</span>\n",
       "</mark>\n",
       " even as appearance lies, Haply our close, dark, vague, warm sense of seeing Is the choked vision of blindfolded eyes. Wherefrom what comes to thought’s sense of life? Nought. All is either the irrational world we see Or some aught-else whose being-unknown doth rot Its use for our thought’s use. Whence taketh me     A qualm-like ache of life, a body-deep     Soul-hate of what we seek and what we weep. III. When I do think my meanest line shall be More in \n",
       "<mark class=\"entity\" style=\"background: #7aecec; padding: 0.45em 0.6em; margin: 0 0.25em; line-height: 1; border-radius: 0.35em;\">\n",
       "    Time\n",
       "    <span style=\"font-size: 0.8em; font-weight: bold; line-height: 1; border-radius: 0.35em; vertical-align: middle; margin-left: 0.5rem\">ORG</span>\n",
       "</mark>\n",
       "’s use than my creating whole, That future eyes more clearly shall feel me In this inked page than in my direct soul; When I conjecture put to make me seeing Good readers of me in some aftertime, Thankful to some idea of my being That doth not even my with gone true soul rime; An anger at the essence of the world, That makes this thus, or thinkable this wise, Takes my soul by the throat and makes it hurled In \n",
       "<mark class=\"entity\" style=\"background: #bfe1d9; padding: 0.45em 0.6em; margin: 0 0.25em; line-height: 1; border-radius: 0.35em;\">\n",
       "    nightly\n",
       "    <span style=\"font-size: 0.8em; font-weight: bold; line-height: 1; border-radius: 0.35em; vertical-align: middle; margin-left: 0.5rem\">DATE</span>\n",
       "</mark>\n",
       " horrors of despaired surmise,     And I become the mere sense of a rage     That lacks the very words whose waste might ’suage. IV. I could not think of thee as \n",
       "<mark class=\"entity\" style=\"background: #aa9cfc; padding: 0.45em 0.6em; margin: 0 0.25em; line-height: 1; border-radius: 0.35em;\">\n",
       "    piecèd rot\n",
       "    <span style=\"font-size: 0.8em; font-weight: bold; line-height: 1; border-radius: 0.35em; vertical-align: middle; margin-left: 0.5rem\">PERSON</span>\n",
       "</mark>\n",
       ", Yet such thou wert, for thou hadst been long dead; Yet thou liv’dst entire in my seeing thought And what thou wert in me had never fled. Nay, I had fixed the moments of thy beauty— Thy ebbing smile, thy kiss’s readiness, And memory had taught my heart the duty To know thee ever at that deathlessness. But when I came where thou wert laid, and saw The natural flowers ignoring thee sans blame, And the encroaching grass, with casual flaw, Framing the stone to age where was thy name,     I knew not how to feel, nor what to be     Towards thy fate’s material secrecy. V. How can I think, or edge my thoughts to action, When the miserly press of each \n",
       "<mark class=\"entity\" style=\"background: #bfe1d9; padding: 0.45em 0.6em; margin: 0 0.25em; line-height: 1; border-radius: 0.35em;\">\n",
       "    day\n",
       "    <span style=\"font-size: 0.8em; font-weight: bold; line-height: 1; border-radius: 0.35em; vertical-align: middle; margin-left: 0.5rem\">DATE</span>\n",
       "</mark>\n",
       "’s need Aches to a narrowness of spilled distraction My soul appalled at the world’s work’s time-greed? How can I pause my thoughts upon the task My soul was born to think that it must do When every moment has a thought to ask To fit the immediate craving of its cue? The coin I’d heap for marrying my \n",
       "<mark class=\"entity\" style=\"background: #aa9cfc; padding: 0.45em 0.6em; margin: 0 0.25em; line-height: 1; border-radius: 0.35em;\">\n",
       "    Muse\n",
       "    <span style=\"font-size: 0.8em; font-weight: bold; line-height: 1; border-radius: 0.35em; vertical-align: middle; margin-left: 0.5rem\">PERSON</span>\n",
       "</mark>\n",
       " And build our home i’th’ greater Time-to-be Becomes dissolved by needs of \n",
       "<mark class=\"entity\" style=\"background: #bfe1d9; padding: 0.45em 0.6em; margin: 0 0.25em; line-height: 1; border-radius: 0.35em;\">\n",
       "    each day\n",
       "    <span style=\"font-size: 0.8em; font-weight: bold; line-height: 1; border-radius: 0.35em; vertical-align: middle; margin-left: 0.5rem\">DATE</span>\n",
       "</mark>\n",
       "’s use And I feel beggared of infinity,     Like a true-\n",
       "<mark class=\"entity\" style=\"background: #c887fb; padding: 0.45em 0.6em; margin: 0 0.25em; line-height: 1; border-radius: 0.35em;\">\n",
       "    Christian\n",
       "    <span style=\"font-size: 0.8em; font-weight: bold; line-height: 1; border-radius: 0.35em; vertical-align: middle; margin-left: 0.5rem\">NORP</span>\n",
       "</mark>\n",
       " sinner, \n",
       "<mark class=\"entity\" style=\"background: #bfe1d9; padding: 0.45em 0.6em; margin: 0 0.25em; line-height: 1; border-radius: 0.35em;\">\n",
       "    each day\n",
       "    <span style=\"font-size: 0.8em; font-weight: bold; line-height: 1; border-radius: 0.35em; vertical-align: middle; margin-left: 0.5rem\">DATE</span>\n",
       "</mark>\n",
       " flesh-driven     By his own act to forfeit his wished heaven. VI. As a bad orator, badly o’er-book-skilled, \n",
       "<mark class=\"entity\" style=\"background: #aa9cfc; padding: 0.45em 0.6em; margin: 0 0.25em; line-height: 1; border-radius: 0.35em;\">\n",
       "    Doth\n",
       "    <span style=\"font-size: 0.8em; font-weight: bold; line-height: 1; border-radius: 0.35em; vertical-align: middle; margin-left: 0.5rem\">PERSON</span>\n",
       "</mark>\n",
       " overflow his purpose with made heat, And, like a clock, winds with withoutness willed What should have been an inner instinct’s feat; Or as a prose-wit, harshly poet turned, Lacking the subtler music in his measure, With useless care labours but to be spurned, Courting in alien speech the \n",
       "<mark class=\"entity\" style=\"background: #aa9cfc; padding: 0.45em 0.6em; margin: 0 0.25em; line-height: 1; border-radius: 0.35em;\">\n",
       "    Muse\n",
       "    <span style=\"font-size: 0.8em; font-weight: bold; line-height: 1; border-radius: 0.35em; vertical-align: middle; margin-left: 0.5rem\">PERSON</span>\n",
       "</mark>\n",
       "’s pleasure; I study how to love or how to hate, Estranged by consciousness from sentiment, With a thought feeling forced to be sedate Even when the feeling’s nature is violent;     As who would learn to swim without the river,     When nearest to the trick, as far as ever. VII. Thy words are torture to me, that scarce grieve thee— That entire death shall null my entire thought; And I feel torture, not that I believe thee, But that I cannot disbelieve thee not. Shall that of me that now contains the stars Be by the very contained stars survived? Thus were \n",
       "<mark class=\"entity\" style=\"background: #aa9cfc; padding: 0.45em 0.6em; margin: 0 0.25em; line-height: 1; border-radius: 0.35em;\">\n",
       "    Fate\n",
       "    <span style=\"font-size: 0.8em; font-weight: bold; line-height: 1; border-radius: 0.35em; vertical-align: middle; margin-left: 0.5rem\">PERSON</span>\n",
       "</mark>\n",
       " all unjust. Yet what truth bars An all unjust \n",
       "<mark class=\"entity\" style=\"background: #aa9cfc; padding: 0.45em 0.6em; margin: 0 0.25em; line-height: 1; border-radius: 0.35em;\">\n",
       "    Fate\n",
       "    <span style=\"font-size: 0.8em; font-weight: bold; line-height: 1; border-radius: 0.35em; vertical-align: middle; margin-left: 0.5rem\">PERSON</span>\n",
       "</mark>\n",
       "’s truth from being believed? Conjecture cannot fit to the seen world A garment of its thought untorn or covering, Or with its stuffed garb forge an otherworld Without itself its dead deceit discovering;     So, all being possible, an idle thought may     Less idle thoughts, self-known no truer, dismay. VIII. How many masks wear we, and undermasks, Upon our countenance of soul, and when, If for self-sport the soul itself unmasks, Knows it the last mask off and the face plain? The true mask feels no inside to the mask But looks out of the mask by co-masked eyes. Whatever consciousness begins the task The task’s accepted use to sleepness ties. Like a child frighted by its mirrored faces, Our souls, that children are, being thought-losing, \n",
       "<mark class=\"entity\" style=\"background: #7aecec; padding: 0.45em 0.6em; margin: 0 0.25em; line-height: 1; border-radius: 0.35em;\">\n",
       "    Foist\n",
       "    <span style=\"font-size: 0.8em; font-weight: bold; line-height: 1; border-radius: 0.35em; vertical-align: middle; margin-left: 0.5rem\">ORG</span>\n",
       "</mark>\n",
       " otherness upon their seen grimaces And get a whole world on their forgot causing;     And, when a thought would unmask our soul’s masking,     Itself goes not unmasked to the unmasking. IX. Oh to be idle loving idleness! But I am idle all in hate of me; Ever in action’s dream, in the false stress Of purposed action never set to be. Like a fierce beast self-penned in a bait-lair, My will to act binds with excess my action, Not-acting coils the thought with raged despair, And acting rage doth paint despair distraction. Like someone sinking in a treacherous sand, Each gesture to deliver sinks the more; The struggle avails not, and to raise no hand, Though but more slowly useless, we’ve no power.     Hence live I the dead life \n",
       "<mark class=\"entity\" style=\"background: #bfe1d9; padding: 0.45em 0.6em; margin: 0 0.25em; line-height: 1; border-radius: 0.35em;\">\n",
       "    each day\n",
       "    <span style=\"font-size: 0.8em; font-weight: bold; line-height: 1; border-radius: 0.35em; vertical-align: middle; margin-left: 0.5rem\">DATE</span>\n",
       "</mark>\n",
       " doth bring,     Repurposed for \n",
       "<mark class=\"entity\" style=\"background: #bfe1d9; padding: 0.45em 0.6em; margin: 0 0.25em; line-height: 1; border-radius: 0.35em;\">\n",
       "    next day\n",
       "    <span style=\"font-size: 0.8em; font-weight: bold; line-height: 1; border-radius: 0.35em; vertical-align: middle; margin-left: 0.5rem\">DATE</span>\n",
       "</mark>\n",
       "’s repurposing. X. As to a child, I talked my heart asleep With empty promise of \n",
       "<mark class=\"entity\" style=\"background: #bfe1d9; padding: 0.45em 0.6em; margin: 0 0.25em; line-height: 1; border-radius: 0.35em;\">\n",
       "    the coming day\n",
       "    <span style=\"font-size: 0.8em; font-weight: bold; line-height: 1; border-radius: 0.35em; vertical-align: middle; margin-left: 0.5rem\">DATE</span>\n",
       "</mark>\n",
       ", And it slept rather for my words made sleep Than from a thought of what their sense did say. For did it care for sense, would it not wake And question closer to the morrow’s pleasure? Would it not edge nearer my words, to take The promise in the meting of its measure? So, if it slept, ’twas that it cared but for The present sleepy use of promised joy, Thanking the fruit but for the forecome flower Which the less active senses best enjoy.     Thus with deceit do I detain the heart     Of which deceit’s self knows itself a part. XI. Like to a ship that storms urge on its course, By its own trials our soul is surer made. The very things that make the voyage worse Do make it better; its peril is its aid. And, as the storm drives from the storm, our heart Within the peril disimperilled grows; A port is near the more from port we part— The port whereto our driven direction goes. If we reap knowledge to cross-profit, this From storms we learn, when the storm’s height doth drive— That the black presence of its violence is The pushing promise of near far blue skies.     \n",
       "<mark class=\"entity\" style=\"background: #aa9cfc; padding: 0.45em 0.6em; margin: 0 0.25em; line-height: 1; border-radius: 0.35em;\">\n",
       "    Learn\n",
       "    <span style=\"font-size: 0.8em; font-weight: bold; line-height: 1; border-radius: 0.35em; vertical-align: middle; margin-left: 0.5rem\">PERSON</span>\n",
       "</mark>\n",
       " we but how to have the pilot-skill,     And the storm’s very might shall mate our will. \n",
       "<mark class=\"entity\" style=\"background: #7aecec; padding: 0.45em 0.6em; margin: 0 0.25em; line-height: 1; border-radius: 0.35em;\">\n",
       "    XII\n",
       "    <span style=\"font-size: 0.8em; font-weight: bold; line-height: 1; border-radius: 0.35em; vertical-align: middle; margin-left: 0.5rem\">ORG</span>\n",
       "</mark>\n",
       ". As the lone, frighted user of a night-road Suddenly turns round, nothing to detect, Yet on his fear’s sense \n",
       "<mark class=\"entity\" style=\"background: #aa9cfc; padding: 0.45em 0.6em; margin: 0 0.25em; line-height: 1; border-radius: 0.35em;\">\n",
       "    keepeth\n",
       "    <span style=\"font-size: 0.8em; font-weight: bold; line-height: 1; border-radius: 0.35em; vertical-align: middle; margin-left: 0.5rem\">PERSON</span>\n",
       "</mark>\n",
       " still the load Of that brink-nothing he doth but suspect; And the cold terror moves to him more near Of something that from nothing casts a spell, That, when he moves, to fright more is not there, And’s only visible when invisible So I upon the world turn round in thought, And nothing viewing do no courage take, But my more terror, from no seen cause got, To that felt corporate emptiness forsake,     And draw my sense of mystery’s horror from     Seeing no mystery’s mystery alone. XIII. When I should be asleep to mine own voice In telling thee how much thy love’s my dream, I find me listening to myself, the noise Of my words othered in my hearing them. Yet wonder not: this is the poet’s soul. I could not tell thee well of how I love, Loved I not less by knowing it, were all My self my love and no thought love to prove. What consciousness makes more by consciousness, It makes less, for it makes it less itself, My sense of love could not my love rich-dress Did it not for it spend love’s own love-pelf.     Poet’s love’s this (as in these words I prove thee):     I love my love for thee more than I love thee. \n",
       "<mark class=\"entity\" style=\"background: #7aecec; padding: 0.45em 0.6em; margin: 0 0.25em; line-height: 1; border-radius: 0.35em;\">\n",
       "    XIV\n",
       "    <span style=\"font-size: 0.8em; font-weight: bold; line-height: 1; border-radius: 0.35em; vertical-align: middle; margin-left: 0.5rem\">ORG</span>\n",
       "</mark>\n",
       ". We are born at sunset and we die ere morn, And the whole darkness of the world we know, How can we guess its truth, to darkness born, The obscure consequence of absent glow? Only the stars do teach us light. We grasp Their scattered smallnesses with thoughts that stray, And, though their eyes look through \n",
       "<mark class=\"entity\" style=\"background: #bfe1d9; padding: 0.45em 0.6em; margin: 0 0.25em; line-height: 1; border-radius: 0.35em;\">\n",
       "    night\n",
       "    <span style=\"font-size: 0.8em; font-weight: bold; line-height: 1; border-radius: 0.35em; vertical-align: middle; margin-left: 0.5rem\">TIME</span>\n",
       "</mark>\n",
       "’s complete mask, Yet they speak not the features of \n",
       "<mark class=\"entity\" style=\"background: #bfe1d9; padding: 0.45em 0.6em; margin: 0 0.25em; line-height: 1; border-radius: 0.35em;\">\n",
       "    the day\n",
       "    <span style=\"font-size: 0.8em; font-weight: bold; line-height: 1; border-radius: 0.35em; vertical-align: middle; margin-left: 0.5rem\">DATE</span>\n",
       "</mark>\n",
       ". Why should these small denials of the whole More than the black whole the pleased eyes attract? Why what it calls «worth» does the captive soul Add to the small and from the large detract?     So, put of light’s love wishing it night’s stretch,     A nightly thought of day we darkly reach. \n",
       "<mark class=\"entity\" style=\"background: #aa9cfc; padding: 0.45em 0.6em; margin: 0 0.25em; line-height: 1; border-radius: 0.35em;\">\n",
       "    XV\n",
       "    <span style=\"font-size: 0.8em; font-weight: bold; line-height: 1; border-radius: 0.35em; vertical-align: middle; margin-left: 0.5rem\">PERSON</span>\n",
       "</mark>\n",
       ". Like a bad suitor desperate and trembling From the mixed sense of being not loved and loving, Who with feared longing \n",
       "<mark class=\"entity\" style=\"background: #e4e7d2; padding: 0.45em 0.6em; margin: 0 0.25em; line-height: 1; border-radius: 0.35em;\">\n",
       "    half\n",
       "    <span style=\"font-size: 0.8em; font-weight: bold; line-height: 1; border-radius: 0.35em; vertical-align: middle; margin-left: 0.5rem\">CARDINAL</span>\n",
       "</mark>\n",
       " would know, dissembling With what he’d wish proved what he fears soon proving, I look with inner eyes afraid to look, Yet perplexed into looking, at the worth This verse may have and wonder, of my book, To what thoughts shall’t in alien hearts give birth. But, as he who doth love, and, loving, hopes, Yet, hoping, fears, fears to put proof to proof, And in his mind for possible proofs gropes, Delaying the true proof, lest the real thing scoff,     I daily live, i’th’ fame I dream to see,     But by my thought of others’ thought of me. XVI. We never joy enjoy to that full point Regret doth wish joy had enjoyèd been, Nor have the strength regret to disappoint Recalling not past joy’s thought, but its mien. Yet joy was joy when it enjoyèd was And after-enjoyed when as joy recalled, It must have been joy ere its joy did pass And, recalled, joy still, since its being-past galled. Alas! All this is useless, for joy’s in Enjoying, not in thinking of enjoying. Its mere thought-mirroring gainst itself doth sin, By mere reflecting solid life destroying,     Yet the more thought we take to thought to prove     It must not think, doth further from joy move. XVII. My love, and not I, is the egoist. My love for thee loves itself more than thee; Ay, more than me, in whom it doth exist, And makes me live that it may feed on me. In the country of bridges the bridge is More real than the shores it doth unsever; So in our world, all of \n",
       "<mark class=\"entity\" style=\"background: #7aecec; padding: 0.45em 0.6em; margin: 0 0.25em; line-height: 1; border-radius: 0.35em;\">\n",
       "    Relation\n",
       "    <span style=\"font-size: 0.8em; font-weight: bold; line-height: 1; border-radius: 0.35em; vertical-align: middle; margin-left: 0.5rem\">ORG</span>\n",
       "</mark>\n",
       ", this Is true—that truer is \n",
       "<mark class=\"entity\" style=\"background: #f0d0ff; padding: 0.45em 0.6em; margin: 0 0.25em; line-height: 1; border-radius: 0.35em;\">\n",
       "    Love\n",
       "    <span style=\"font-size: 0.8em; font-weight: bold; line-height: 1; border-radius: 0.35em; vertical-align: middle; margin-left: 0.5rem\">WORK_OF_ART</span>\n",
       "</mark>\n",
       " than either lover. This thought therefore comes lightly to \n",
       "<mark class=\"entity\" style=\"background: #7aecec; padding: 0.45em 0.6em; margin: 0 0.25em; line-height: 1; border-radius: 0.35em;\">\n",
       "    Doubt\n",
       "    <span style=\"font-size: 0.8em; font-weight: bold; line-height: 1; border-radius: 0.35em; vertical-align: middle; margin-left: 0.5rem\">ORG</span>\n",
       "</mark>\n",
       "’s door— If we, seeing substance of this world, are not Mere Intervals, God’s Absence and no more, Hollows in real \n",
       "<mark class=\"entity\" style=\"background: #c887fb; padding: 0.45em 0.6em; margin: 0 0.25em; line-height: 1; border-radius: 0.35em;\">\n",
       "    Consciousness\n",
       "    <span style=\"font-size: 0.8em; font-weight: bold; line-height: 1; border-radius: 0.35em; vertical-align: middle; margin-left: 0.5rem\">NORP</span>\n",
       "</mark>\n",
       " and Thought.     And if ’tis possible to Thought to bear this fruit,     Why should it not be possible to Truth? XVIII. Indefinite space, which, by co-substance night, In \n",
       "<mark class=\"entity\" style=\"background: #e4e7d2; padding: 0.45em 0.6em; margin: 0 0.25em; line-height: 1; border-radius: 0.35em;\">\n",
       "    one\n",
       "    <span style=\"font-size: 0.8em; font-weight: bold; line-height: 1; border-radius: 0.35em; vertical-align: middle; margin-left: 0.5rem\">CARDINAL</span>\n",
       "</mark>\n",
       " black mystery \n",
       "<mark class=\"entity\" style=\"background: #e4e7d2; padding: 0.45em 0.6em; margin: 0 0.25em; line-height: 1; border-radius: 0.35em;\">\n",
       "    two\n",
       "    <span style=\"font-size: 0.8em; font-weight: bold; line-height: 1; border-radius: 0.35em; vertical-align: middle; margin-left: 0.5rem\">CARDINAL</span>\n",
       "</mark>\n",
       " void mysteries blends; The stray stars, whose innumerable light Repeats one mystery till conjecture ends; The stream of time, known by birth-bursting bubbles; The gulf of silence, empty even of nought; Thought’s high-walled maze, which the outed owner troubles Because the string’s lost and the plan forgot: When I think on this and that here I stand, The thinker of these thoughts, emptily wise, Holding up to my thinking my thing-hand And looking at it with thought-alien eyes,     The prayer of my wonder looketh past     The universal darkness lone and vast. XIX. Beauty and love let no one separate, Whom exact \n",
       "<mark class=\"entity\" style=\"background: #f0d0ff; padding: 0.45em 0.6em; margin: 0 0.25em; line-height: 1; border-radius: 0.35em;\">\n",
       "    Nature\n",
       "    <span style=\"font-size: 0.8em; font-weight: bold; line-height: 1; border-radius: 0.35em; vertical-align: middle; margin-left: 0.5rem\">WORK_OF_ART</span>\n",
       "</mark>\n",
       " did to each other fit, Giving to Beauty love as finishing fate And to \n",
       "<mark class=\"entity\" style=\"background: #f0d0ff; padding: 0.45em 0.6em; margin: 0 0.25em; line-height: 1; border-radius: 0.35em;\">\n",
       "    Love\n",
       "    <span style=\"font-size: 0.8em; font-weight: bold; line-height: 1; border-radius: 0.35em; vertical-align: middle; margin-left: 0.5rem\">WORK_OF_ART</span>\n",
       "</mark>\n",
       " beauty as true colour of it. Let he but friend be who the soul finds fair, But let none love outside the body’s thought, So the seen couple’s togetherness shall bear Truth to the beauty each in the other sought. I could but love thee out of mockery Of love and thee and mine own ugliness; Therefore thy beauty I sing and wish not thee, Thanking the Gods I long not out of place,     Lest, like a slave that for kings’ robes doth long,     Obtained, shall with mere wearing do them wrong. XX. When in the widening circle of rebirth To a new flesh my travelled soul shall come, And try again the unremembered earth With the old sadness for the immortal home, \n",
       "<mark class=\"entity\" style=\"background: #aa9cfc; padding: 0.45em 0.6em; margin: 0 0.25em; line-height: 1; border-radius: 0.35em;\">\n",
       "    Shall\n",
       "    <span style=\"font-size: 0.8em; font-weight: bold; line-height: 1; border-radius: 0.35em; vertical-align: middle; margin-left: 0.5rem\">PERSON</span>\n",
       "</mark>\n",
       " I revisit these same differing fields And cull the old new flowers with the same sense, That some small breath of foiled remembrance yields, Of more \n",
       "<mark class=\"entity\" style=\"background: #bfe1d9; padding: 0.45em 0.6em; margin: 0 0.25em; line-height: 1; border-radius: 0.35em;\">\n",
       "    age than my days\n",
       "    <span style=\"font-size: 0.8em; font-weight: bold; line-height: 1; border-radius: 0.35em; vertical-align: middle; margin-left: 0.5rem\">DATE</span>\n",
       "</mark>\n",
       " in this pretence? Shall I again regret strange faces lost Of which the present memory is forgot And but in unseen bulks of vagueness tossed Out of the closed sea and black night of Thought?     Were thy face one, what sweetness will’t not be,     Though by blind feeling, to remember thee! \n",
       "<mark class=\"entity\" style=\"background: #aa9cfc; padding: 0.45em 0.6em; margin: 0 0.25em; line-height: 1; border-radius: 0.35em;\">\n",
       "    XXI\n",
       "    <span style=\"font-size: 0.8em; font-weight: bold; line-height: 1; border-radius: 0.35em; vertical-align: middle; margin-left: 0.5rem\">PERSON</span>\n",
       "</mark>\n",
       ". Thought was born blind, but Thought knows what is seeing. Its careful touch, deciphering forms from shapes, Still suggests form as aught whose proper being Mere finding touch with erring darkness drapes. Yet whence, except from guessed sight, does touch teach That touch is but a close and empty sense? How does mere touch, self-uncontented, reach For some truer sense’s whole intelligence? The thing once touched, if touch be now omitted, Stands yet in memory real and outward known, So the untouching memory of touch is fitted With sense of a sense whereby far things are shown     So, by touch of untouching, wrongly aright,     Touch’ thought of seeing sees not things but Sight. \n",
       "<mark class=\"entity\" style=\"background: #7aecec; padding: 0.45em 0.6em; margin: 0 0.25em; line-height: 1; border-radius: 0.35em;\">\n",
       "    XXII\n",
       "    <span style=\"font-size: 0.8em; font-weight: bold; line-height: 1; border-radius: 0.35em; vertical-align: middle; margin-left: 0.5rem\">ORG</span>\n",
       "</mark>\n",
       ". My soul is a stiff pageant, man by man, Of some \n",
       "<mark class=\"entity\" style=\"background: #c887fb; padding: 0.45em 0.6em; margin: 0 0.25em; line-height: 1; border-radius: 0.35em;\">\n",
       "    Egyptian\n",
       "    <span style=\"font-size: 0.8em; font-weight: bold; line-height: 1; border-radius: 0.35em; vertical-align: middle; margin-left: 0.5rem\">NORP</span>\n",
       "</mark>\n",
       " art than \n",
       "<mark class=\"entity\" style=\"background: #feca74; padding: 0.45em 0.6em; margin: 0 0.25em; line-height: 1; border-radius: 0.35em;\">\n",
       "    Egypt\n",
       "    <span style=\"font-size: 0.8em; font-weight: bold; line-height: 1; border-radius: 0.35em; vertical-align: middle; margin-left: 0.5rem\">GPE</span>\n",
       "</mark>\n",
       " older, \n",
       "<mark class=\"entity\" style=\"background: #aa9cfc; padding: 0.45em 0.6em; margin: 0 0.25em; line-height: 1; border-radius: 0.35em;\">\n",
       "    Found\n",
       "    <span style=\"font-size: 0.8em; font-weight: bold; line-height: 1; border-radius: 0.35em; vertical-align: middle; margin-left: 0.5rem\">PERSON</span>\n",
       "</mark>\n",
       " in some tomb whose rite no guess can scan, Where all things else to coloured dust did moulder. Whate’er its sense may mean, its age is twin To that of priesthoods whose feet stood near God, When knowledge was so great that ’twas a sin And man’s mere soul too man for its abode. But when I ask what means that pageant I And would look at it suddenly, I lose The sense I had of seeing it, nor can try Again to look, nor hath my memory a use     That seems recalling, save that it recalls     An emptiness of having seen those walls. XXIII. Even as upon a low and cloud-domed day, When clouds are \n",
       "<mark class=\"entity\" style=\"background: #e4e7d2; padding: 0.45em 0.6em; margin: 0 0.25em; line-height: 1; border-radius: 0.35em;\">\n",
       "    one\n",
       "    <span style=\"font-size: 0.8em; font-weight: bold; line-height: 1; border-radius: 0.35em; vertical-align: middle; margin-left: 0.5rem\">CARDINAL</span>\n",
       "</mark>\n",
       " cloud till the horizon, Our thinking senses deem the sun away And say «’tis sunless» and «there is no sun»; And yet \n",
       "<mark class=\"entity\" style=\"background: #bfe1d9; padding: 0.45em 0.6em; margin: 0 0.25em; line-height: 1; border-radius: 0.35em;\">\n",
       "    the very day\n",
       "    <span style=\"font-size: 0.8em; font-weight: bold; line-height: 1; border-radius: 0.35em; vertical-align: middle; margin-left: 0.5rem\">DATE</span>\n",
       "</mark>\n",
       " they wrong truth by Is of the unseen sun’s effluent essence, The very words do give themselves the lie, The very thought of absence comes from presence: Even so deem we through Good of what is evil. He speaks of light that speaks of absent light, And absent god, becoming present devil, Is still the absent god by essence’ right.     The withdrawn cause by being withdrawn doth get     (Being thereby cause still) the denied effect. XXIV. Something in me was born before the stars And saw the sun begin from far away. Our yellow, local day on its wont jars, For it hath communed with an absolute day. Through my Thought’s night, as a worn robe’s heard trail That I have never seen, I drag this past That saw the Possible like a dawn grow pale On the lost \n",
       "<mark class=\"entity\" style=\"background: #bfe1d9; padding: 0.45em 0.6em; margin: 0 0.25em; line-height: 1; border-radius: 0.35em;\">\n",
       "    night\n",
       "    <span style=\"font-size: 0.8em; font-weight: bold; line-height: 1; border-radius: 0.35em; vertical-align: middle; margin-left: 0.5rem\">TIME</span>\n",
       "</mark>\n",
       " before it, mute and vast. It dates remoter than God’s birth can reach, That had no birth but the world’s coming after. So the world’s to me as, after whispered speech, The cause-ignored sudden echoing of laughter.     That ’t has a meaning my conjecture knows,     But that ’t has meaning’s all its meaning shows. \n",
       "<mark class=\"entity\" style=\"background: #7aecec; padding: 0.45em 0.6em; margin: 0 0.25em; line-height: 1; border-radius: 0.35em;\">\n",
       "    XXV\n",
       "    <span style=\"font-size: 0.8em; font-weight: bold; line-height: 1; border-radius: 0.35em; vertical-align: middle; margin-left: 0.5rem\">ORG</span>\n",
       "</mark>\n",
       ". We are in \n",
       "<mark class=\"entity\" style=\"background: #aa9cfc; padding: 0.45em 0.6em; margin: 0 0.25em; line-height: 1; border-radius: 0.35em;\">\n",
       "    Fate\n",
       "    <span style=\"font-size: 0.8em; font-weight: bold; line-height: 1; border-radius: 0.35em; vertical-align: middle; margin-left: 0.5rem\">PERSON</span>\n",
       "</mark>\n",
       " and \n",
       "<mark class=\"entity\" style=\"background: #aa9cfc; padding: 0.45em 0.6em; margin: 0 0.25em; line-height: 1; border-radius: 0.35em;\">\n",
       "    Fate\n",
       "    <span style=\"font-size: 0.8em; font-weight: bold; line-height: 1; border-radius: 0.35em; vertical-align: middle; margin-left: 0.5rem\">PERSON</span>\n",
       "</mark>\n",
       "’s and do but lack Outness from soul to know ourselves its dwelling, And do but compel \n",
       "<mark class=\"entity\" style=\"background: #aa9cfc; padding: 0.45em 0.6em; margin: 0 0.25em; line-height: 1; border-radius: 0.35em;\">\n",
       "    Fate\n",
       "    <span style=\"font-size: 0.8em; font-weight: bold; line-height: 1; border-radius: 0.35em; vertical-align: middle; margin-left: 0.5rem\">PERSON</span>\n",
       "</mark>\n",
       " aside or back By \n",
       "<mark class=\"entity\" style=\"background: #aa9cfc; padding: 0.45em 0.6em; margin: 0 0.25em; line-height: 1; border-radius: 0.35em;\">\n",
       "    Fate\n",
       "    <span style=\"font-size: 0.8em; font-weight: bold; line-height: 1; border-radius: 0.35em; vertical-align: middle; margin-left: 0.5rem\">PERSON</span>\n",
       "</mark>\n",
       "’s own immanence in the compelling. We are too far in us from outward truth To know how much we are not what we are, And live but in the heat of error’s youth, Yet young enough its acting youth to ignore. The doubleness of mind fails us, to glance At our exterior presence amid things, Sizing from otherness our countenance And seeing our puppet will’s act-acting strings.     An unknown language speaks in \n",
       "<mark class=\"entity\" style=\"background: #feca74; padding: 0.45em 0.6em; margin: 0 0.25em; line-height: 1; border-radius: 0.35em;\">\n",
       "    us\n",
       "    <span style=\"font-size: 0.8em; font-weight: bold; line-height: 1; border-radius: 0.35em; vertical-align: middle; margin-left: 0.5rem\">GPE</span>\n",
       "</mark>\n",
       ", which we     Are at the words of, fronted from reality. XXVI. The world is woven all of dream and error And but \n",
       "<mark class=\"entity\" style=\"background: #e4e7d2; padding: 0.45em 0.6em; margin: 0 0.25em; line-height: 1; border-radius: 0.35em;\">\n",
       "    one\n",
       "    <span style=\"font-size: 0.8em; font-weight: bold; line-height: 1; border-radius: 0.35em; vertical-align: middle; margin-left: 0.5rem\">CARDINAL</span>\n",
       "</mark>\n",
       " sureness in our truth may lie— That when we hold to aught our thinking’s mirror We know it not by knowing it thereby. For but one side of things the mirror knows, And knows it colded from its solidness. A double lie its truth is; what it shows By true show’s false and nowhere by true place. Thought clouds our life’s day-sense with strangeness, yet Never from strangeness more than that it’s strange \n",
       "<mark class=\"entity\" style=\"background: #aa9cfc; padding: 0.45em 0.6em; margin: 0 0.25em; line-height: 1; border-radius: 0.35em;\">\n",
       "    Doth\n",
       "    <span style=\"font-size: 0.8em; font-weight: bold; line-height: 1; border-radius: 0.35em; vertical-align: middle; margin-left: 0.5rem\">PERSON</span>\n",
       "</mark>\n",
       " buy our perplexed thinking, for we get But the words’ sense from words—knowledge, truth, change.     We know the world is false, not what is true.     Yet we think on, knowing we ne’er shall know. XXVII. How \n",
       "<mark class=\"entity\" style=\"background: #bfe1d9; padding: 0.45em 0.6em; margin: 0 0.25em; line-height: 1; border-radius: 0.35em;\">\n",
       "    yesterday\n",
       "    <span style=\"font-size: 0.8em; font-weight: bold; line-height: 1; border-radius: 0.35em; vertical-align: middle; margin-left: 0.5rem\">DATE</span>\n",
       "</mark>\n",
       " is long ago! The past Is a fixed infinite distance from \n",
       "<mark class=\"entity\" style=\"background: #bfe1d9; padding: 0.45em 0.6em; margin: 0 0.25em; line-height: 1; border-radius: 0.35em;\">\n",
       "    to-day\n",
       "    <span style=\"font-size: 0.8em; font-weight: bold; line-height: 1; border-radius: 0.35em; vertical-align: middle; margin-left: 0.5rem\">DATE</span>\n",
       "</mark>\n",
       ", And bygone things, the \n",
       "<mark class=\"entity\" style=\"background: #e4e7d2; padding: 0.45em 0.6em; margin: 0 0.25em; line-height: 1; border-radius: 0.35em;\">\n",
       "    first\n",
       "    <span style=\"font-size: 0.8em; font-weight: bold; line-height: 1; border-radius: 0.35em; vertical-align: middle; margin-left: 0.5rem\">ORDINAL</span>\n",
       "</mark>\n",
       "-lived as the last, In irreparable sameness far away. How the to-be is infinitely ever Out of the place wherein it will be Now, Like the seen wave yet far up in the river, Which reaches not us, but the new-waved flow! This thing \n",
       "<mark class=\"entity\" style=\"background: #7aecec; padding: 0.45em 0.6em; margin: 0 0.25em; line-height: 1; border-radius: 0.35em;\">\n",
       "    Time\n",
       "    <span style=\"font-size: 0.8em; font-weight: bold; line-height: 1; border-radius: 0.35em; vertical-align: middle; margin-left: 0.5rem\">ORG</span>\n",
       "</mark>\n",
       " is, whose being is having none, The equable tyrant of our different fates, Who could not be bought off by a shattered sun Or tricked by new use of our careful dates.     This thing \n",
       "<mark class=\"entity\" style=\"background: #7aecec; padding: 0.45em 0.6em; margin: 0 0.25em; line-height: 1; border-radius: 0.35em;\">\n",
       "    Time\n",
       "    <span style=\"font-size: 0.8em; font-weight: bold; line-height: 1; border-radius: 0.35em; vertical-align: middle; margin-left: 0.5rem\">ORG</span>\n",
       "</mark>\n",
       " is, that to the grave-will bear     My heart, sure but of it and of my fear. XXVIII. The edge of the green wave whitely doth hiss Upon the wetted sand. I look, yet dream. Surely reality cannot be this! Somehow, somewhere this surely doth but seem! The sky, the sea, this great extent disclosed Of outward joy, this bulk of life we feel, Is not something, but something interposed. Only what in this is not this is real. If this be to have sense, if to be awake Be but to see this bright, great sleep of things, For the rarer potion mine own dreams I’ll take And for truth commune with imaginings,     Holding a dream too bitter, a too fair curse,     This common sleep of men, the universe. \n",
       "<mark class=\"entity\" style=\"background: #aa9cfc; padding: 0.45em 0.6em; margin: 0 0.25em; line-height: 1; border-radius: 0.35em;\">\n",
       "    XXIX\n",
       "    <span style=\"font-size: 0.8em; font-weight: bold; line-height: 1; border-radius: 0.35em; vertical-align: middle; margin-left: 0.5rem\">PERSON</span>\n",
       "</mark>\n",
       ". My weary life, that lives unsatisfied On the foiled off-brink of being e’er but this, To whom the power to will hath been denied And the will to renounce doth also miss; My sated life, with having nothing sated, In the motion of moving poisèd aye, Within its dreams from its own dreams abated— This life let the Gods change or take away. For this endless succession of empty \n",
       "<mark class=\"entity\" style=\"background: #bfe1d9; padding: 0.45em 0.6em; margin: 0 0.25em; line-height: 1; border-radius: 0.35em;\">\n",
       "    hours\n",
       "    <span style=\"font-size: 0.8em; font-weight: bold; line-height: 1; border-radius: 0.35em; vertical-align: middle; margin-left: 0.5rem\">TIME</span>\n",
       "</mark>\n",
       ", Like deserts after deserts, voidly one, \n",
       "<mark class=\"entity\" style=\"background: #aa9cfc; padding: 0.45em 0.6em; margin: 0 0.25em; line-height: 1; border-radius: 0.35em;\">\n",
       "    Doth\n",
       "    <span style=\"font-size: 0.8em; font-weight: bold; line-height: 1; border-radius: 0.35em; vertical-align: middle; margin-left: 0.5rem\">PERSON</span>\n",
       "</mark>\n",
       " undermine the very dreaming powers And dull even thought’s active inaction,     Tainting with fore-unwilled will the dreamed act     Twice thus removed from the unobtained fact. \n",
       "<mark class=\"entity\" style=\"background: #aa9cfc; padding: 0.45em 0.6em; margin: 0 0.25em; line-height: 1; border-radius: 0.35em;\">\n",
       "    XXX\n",
       "    <span style=\"font-size: 0.8em; font-weight: bold; line-height: 1; border-radius: 0.35em; vertical-align: middle; margin-left: 0.5rem\">PERSON</span>\n",
       "</mark>\n",
       ". I do not know what truth the false untruth Of this sad sense of the seen world may own, Or if this flowered plant bears also a fruit \n",
       "<mark class=\"entity\" style=\"background: #aa9cfc; padding: 0.45em 0.6em; margin: 0 0.25em; line-height: 1; border-radius: 0.35em;\">\n",
       "    Unto\n",
       "    <span style=\"font-size: 0.8em; font-weight: bold; line-height: 1; border-radius: 0.35em; vertical-align: middle; margin-left: 0.5rem\">PERSON</span>\n",
       "</mark>\n",
       " the true reality unknown. But as the rainbow, neither earth’s nor sky’s, Stands in the dripping freshness of lulled rain, A hope, not real yet not fancy’s, lies \n",
       "<mark class=\"entity\" style=\"background: #aa9cfc; padding: 0.45em 0.6em; margin: 0 0.25em; line-height: 1; border-radius: 0.35em;\">\n",
       "    Athwart\n",
       "    <span style=\"font-size: 0.8em; font-weight: bold; line-height: 1; border-radius: 0.35em; vertical-align: middle; margin-left: 0.5rem\">PERSON</span>\n",
       "</mark>\n",
       " the moment of our ceasing pain. Somehow, since pain is felt yet felt as ill, Hope hath a better warrant than being hoped; Since pain is felt as aught we should not feel Man hath a Nature’s reason for having groped,     Since Time was Time and age and grief his measures,     Towards a better shelter than \n",
       "<mark class=\"entity\" style=\"background: #7aecec; padding: 0.45em 0.6em; margin: 0 0.25em; line-height: 1; border-radius: 0.35em;\">\n",
       "    Time\n",
       "    <span style=\"font-size: 0.8em; font-weight: bold; line-height: 1; border-radius: 0.35em; vertical-align: middle; margin-left: 0.5rem\">ORG</span>\n",
       "</mark>\n",
       "’s pleasures. XXXI. I am older than Nature and her Time By all the timeless age of \n",
       "<mark class=\"entity\" style=\"background: #c887fb; padding: 0.45em 0.6em; margin: 0 0.25em; line-height: 1; border-radius: 0.35em;\">\n",
       "    Consciousness\n",
       "    <span style=\"font-size: 0.8em; font-weight: bold; line-height: 1; border-radius: 0.35em; vertical-align: middle; margin-left: 0.5rem\">NORP</span>\n",
       "</mark>\n",
       ", And my adult oblivion of the clime Where I was born makes me not countryless. Ay, and dim through my daylight thoughts escape Yearnings for that land where my childhood dreamed, Which I cannot recall in colour or shape But haunts my hours like something that hath gleamed And yet is not as light remembered, Nor to the left or to the right conceived; And all round me tastes as if life were dead And the world made but to be disbelieved.     Thus I my hope on unknown truth lay; yet     How but by hope do I the unknown truth get? \n",
       "<mark class=\"entity\" style=\"background: #7aecec; padding: 0.45em 0.6em; margin: 0 0.25em; line-height: 1; border-radius: 0.35em;\">\n",
       "    XXXII\n",
       "    <span style=\"font-size: 0.8em; font-weight: bold; line-height: 1; border-radius: 0.35em; vertical-align: middle; margin-left: 0.5rem\">ORG</span>\n",
       "</mark>\n",
       ". When I have sense of what to sense appears, \n",
       "<mark class=\"entity\" style=\"background: #7aecec; padding: 0.45em 0.6em; margin: 0 0.25em; line-height: 1; border-radius: 0.35em;\">\n",
       "    Sense\n",
       "    <span style=\"font-size: 0.8em; font-weight: bold; line-height: 1; border-radius: 0.35em; vertical-align: middle; margin-left: 0.5rem\">ORG</span>\n",
       "</mark>\n",
       " is sense ere ’tis mine or mine in me is. When I hear, \n",
       "<mark class=\"entity\" style=\"background: #feca74; padding: 0.45em 0.6em; margin: 0 0.25em; line-height: 1; border-radius: 0.35em;\">\n",
       "    Hearing\n",
       "    <span style=\"font-size: 0.8em; font-weight: bold; line-height: 1; border-radius: 0.35em; vertical-align: middle; margin-left: 0.5rem\">GPE</span>\n",
       "</mark>\n",
       ", ere I do hear, hears. When I see, before me abstract Seeing sees. I am part \n",
       "<mark class=\"entity\" style=\"background: #f0d0ff; padding: 0.45em 0.6em; margin: 0 0.25em; line-height: 1; border-radius: 0.35em;\">\n",
       "    Soul\n",
       "    <span style=\"font-size: 0.8em; font-weight: bold; line-height: 1; border-radius: 0.35em; vertical-align: middle; margin-left: 0.5rem\">WORK_OF_ART</span>\n",
       "</mark>\n",
       " part I in all I touch— Soul by that part I hold in common with all, And I the spoiled part, that doth make sense such As I can err by it and my sense mine call. The rest is wondering what these thoughts may mean, That come to explain and suddenly are gone, Like messengers that mock the message’ mien, Explaining all but the explanation;     As if we a ciphered letter’s cipher hit     And find it in an unknown language writ. XXXIII. He that goes back does, since he goes, advance, Though he doth not advance who goeth back, And he that seeks, though he on nothing chance, \n",
       "<mark class=\"entity\" style=\"background: #bfe1d9; padding: 0.45em 0.6em; margin: 0 0.25em; line-height: 1; border-radius: 0.35em;\">\n",
       "    May\n",
       "    <span style=\"font-size: 0.8em; font-weight: bold; line-height: 1; border-radius: 0.35em; vertical-align: middle; margin-left: 0.5rem\">DATE</span>\n",
       "</mark>\n",
       " still by words be said to find a lack. This paradox of having, that is nought In the world’s meaning of the things it screens, Is yet true of the substance of pure thought And there means something by the nought it means. For thinking nought does on nought being confer, As giving not is acting not to give, And, to the same unbribed true thought, to err Is to find truth, though by its negative.     So why call this world false, if false to be     Be to be aught, and being aught Being to be? XXXIV. Happy the maimed, the halt, the mad, the blind— All who, stamped separate by curtailing birth, Owe no duty’s allegiance to mankind Nor stand a valuing in their scheme of worth! But I, whom \n",
       "<mark class=\"entity\" style=\"background: #aa9cfc; padding: 0.45em 0.6em; margin: 0 0.25em; line-height: 1; border-radius: 0.35em;\">\n",
       "    Fate\n",
       "    <span style=\"font-size: 0.8em; font-weight: bold; line-height: 1; border-radius: 0.35em; vertical-align: middle; margin-left: 0.5rem\">PERSON</span>\n",
       "</mark>\n",
       ", not Nature, did curtail, By no exterior voidness being exempt, Must bear accusing glances where I fail, Fixed in the general orbit of contempt. Fate, less than Nature in being kind to lacking, \n",
       "<mark class=\"entity\" style=\"background: #feca74; padding: 0.45em 0.6em; margin: 0 0.25em; line-height: 1; border-radius: 0.35em;\">\n",
       "    Giving\n",
       "    <span style=\"font-size: 0.8em; font-weight: bold; line-height: 1; border-radius: 0.35em; vertical-align: middle; margin-left: 0.5rem\">GPE</span>\n",
       "</mark>\n",
       " the ill, shows not as outer cause, Making our mock-free will the mirror’s backing Which \n",
       "<mark class=\"entity\" style=\"background: #7aecec; padding: 0.45em 0.6em; margin: 0 0.25em; line-height: 1; border-radius: 0.35em;\">\n",
       "    Fate\n",
       "    <span style=\"font-size: 0.8em; font-weight: bold; line-height: 1; border-radius: 0.35em; vertical-align: middle; margin-left: 0.5rem\">ORG</span>\n",
       "</mark>\n",
       "’s own acts as if in itself shows;     And men, like children, seeing the image there,     Take place for cause and make our will \n",
       "<mark class=\"entity\" style=\"background: #7aecec; padding: 0.45em 0.6em; margin: 0 0.25em; line-height: 1; border-radius: 0.35em;\">\n",
       "    Fate\n",
       "    <span style=\"font-size: 0.8em; font-weight: bold; line-height: 1; border-radius: 0.35em; vertical-align: middle; margin-left: 0.5rem\">ORG</span>\n",
       "</mark>\n",
       " bear. XXXV. Good. I have done. My heart weighs. I am sad. The outer day, void statue of lit blue, Is altogether outward, other, glad At mere being not-I (so my aches construe). I, that have failed in everything, bewail Nothing \n",
       "<mark class=\"entity\" style=\"background: #bfe1d9; padding: 0.45em 0.6em; margin: 0 0.25em; line-height: 1; border-radius: 0.35em;\">\n",
       "    this hour\n",
       "    <span style=\"font-size: 0.8em; font-weight: bold; line-height: 1; border-radius: 0.35em; vertical-align: middle; margin-left: 0.5rem\">TIME</span>\n",
       "</mark>\n",
       " but that I have bewailed, For in the general fate what is’t to fail? Why, fate being past for \n",
       "<mark class=\"entity\" style=\"background: #aa9cfc; padding: 0.45em 0.6em; margin: 0 0.25em; line-height: 1; border-radius: 0.35em;\">\n",
       "    Fate\n",
       "    <span style=\"font-size: 0.8em; font-weight: bold; line-height: 1; border-radius: 0.35em; vertical-align: middle; margin-left: 0.5rem\">PERSON</span>\n",
       "</mark>\n",
       ", ’tis but to have failed. Whatever hap-or stop, what matters it, \n",
       "<mark class=\"entity\" style=\"background: #7aecec; padding: 0.45em 0.6em; margin: 0 0.25em; line-height: 1; border-radius: 0.35em;\">\n",
       "    Sith\n",
       "    <span style=\"font-size: 0.8em; font-weight: bold; line-height: 1; border-radius: 0.35em; vertical-align: middle; margin-left: 0.5rem\">ORG</span>\n",
       "</mark>\n",
       " to the mattering our will bringeth nought? With the higher trifling let us world our wit, Conscious that, if we do’t, that was the lot     The regular stars bound us to, when they stood     Godfathers to our birth and to our blood.</div></span>"
      ],
      "text/plain": [
       "<IPython.core.display.HTML object>"
      ]
     },
     "metadata": {},
     "output_type": "display_data"
    }
   ],
   "source": [
    "# Extract the first Doc object\n",
    "doc = pessoa_df['Doc'][0]\n",
    "\n",
    "# Visualize named entity tagging in the '35 Sonnets' text by Pessoa\n",
    "displacy.render(doc, style='ent', jupyter=True)"
   ]
  },
  {
   "cell_type": "markdown",
   "id": "451e8658-2cfb-4628-b305-07b656fea0c0",
   "metadata": {},
   "source": [
    " This visualization already provides some indication into spaCy's labeling possibilities. As one can see, even this simple language model can detect cardinals quite accurately. It is also quite efficient in detecting various relative date components, such as 'day', 'night', 'each day', 'next day' etc. What it struggles with identifying correctly are features such as works of art, persons, organizations and others. One potential cause is the formatting of the texts, since all the lines in our poems start with a capital letter, which might confuse the algorithm. Another, more probable cause, is the simple language model used, which might have been trained on a reduced set of named entities. Next, we will look spaCy performs on parts-of-speech recognition. Lastly, it should not be ignored, as mentioned earlier, that we are working with poems that use language in a different, often metaphorical, way. The results would probably be different were we to explore a scientific texts that uses words more literally.\n"
   ]
  },
  {
   "cell_type": "code",
   "execution_count": 37,
   "id": "5fc55abb-b901-4924-a130-a8f4c8b95039",
   "metadata": {},
   "outputs": [],
   "source": [
    "# Create new DataFrame for analysis purposes\n",
    "pos_analysis_df = pessoa_df[['Filename','Title', 'Doc']]\n",
    "\n",
    "# Create list to store each dictionary\n",
    "num_list = []\n",
    "\n",
    "# Define a function to get part of speech tags and counts and append them to a new dictionary\n",
    "def get_pos_tags(doc):\n",
    "    dictionary = {}\n",
    "    num_pos = doc.count_by(spacy.attrs.POS)\n",
    "    for k,v in sorted(num_pos.items()):\n",
    "        dictionary[doc.vocab[k].text] = v\n",
    "    num_list.append(dictionary)\n",
    "\n",
    "# Apply function to each doc object in DataFrame\n",
    "pos_analysis_df.loc['C_POS'] = pos_analysis_df['Doc'].apply(get_pos_tags)"
   ]
  },
  {
   "cell_type": "code",
   "execution_count": 36,
   "id": "d2af003f-b833-4098-b485-55510d4a5627",
   "metadata": {},
   "outputs": [
    {
     "data": {
      "text/html": [
       "<div>\n",
       "<style scoped>\n",
       "    .dataframe tbody tr th:only-of-type {\n",
       "        vertical-align: middle;\n",
       "    }\n",
       "\n",
       "    .dataframe tbody tr th {\n",
       "        vertical-align: top;\n",
       "    }\n",
       "\n",
       "    .dataframe thead th {\n",
       "        text-align: right;\n",
       "    }\n",
       "</style>\n",
       "<table border=\"1\" class=\"dataframe\">\n",
       "  <thead>\n",
       "    <tr style=\"text-align: right;\">\n",
       "      <th></th>\n",
       "      <th>Title</th>\n",
       "      <th>ADJ</th>\n",
       "      <th>ADP</th>\n",
       "      <th>ADV</th>\n",
       "      <th>AUX</th>\n",
       "      <th>CCONJ</th>\n",
       "      <th>DET</th>\n",
       "      <th>INTJ</th>\n",
       "      <th>NOUN</th>\n",
       "      <th>NUM</th>\n",
       "      <th>PART</th>\n",
       "      <th>PRON</th>\n",
       "      <th>PROPN</th>\n",
       "      <th>PUNCT</th>\n",
       "      <th>SCONJ</th>\n",
       "      <th>VERB</th>\n",
       "      <th>X</th>\n",
       "      <th>SPACE</th>\n",
       "    </tr>\n",
       "  </thead>\n",
       "  <tbody>\n",
       "    <tr>\n",
       "      <th>0</th>\n",
       "      <td>35 Sonnets</td>\n",
       "      <td>342</td>\n",
       "      <td>449</td>\n",
       "      <td>161</td>\n",
       "      <td>235</td>\n",
       "      <td>196</td>\n",
       "      <td>347</td>\n",
       "      <td>4</td>\n",
       "      <td>906</td>\n",
       "      <td>9</td>\n",
       "      <td>179</td>\n",
       "      <td>490</td>\n",
       "      <td>130</td>\n",
       "      <td>635</td>\n",
       "      <td>137</td>\n",
       "      <td>576</td>\n",
       "      <td>3.0</td>\n",
       "      <td>70.0</td>\n",
       "    </tr>\n",
       "    <tr>\n",
       "      <th>1</th>\n",
       "      <td>English Poems, Volume 01 (of 2)</td>\n",
       "      <td>283</td>\n",
       "      <td>354</td>\n",
       "      <td>200</td>\n",
       "      <td>195</td>\n",
       "      <td>157</td>\n",
       "      <td>288</td>\n",
       "      <td>16</td>\n",
       "      <td>839</td>\n",
       "      <td>20</td>\n",
       "      <td>123</td>\n",
       "      <td>430</td>\n",
       "      <td>122</td>\n",
       "      <td>539</td>\n",
       "      <td>73</td>\n",
       "      <td>455</td>\n",
       "      <td>NaN</td>\n",
       "      <td>NaN</td>\n",
       "    </tr>\n",
       "    <tr>\n",
       "      <th>2</th>\n",
       "      <td>English Poems, Volume 02 (of 2)</td>\n",
       "      <td>233</td>\n",
       "      <td>308</td>\n",
       "      <td>136</td>\n",
       "      <td>95</td>\n",
       "      <td>143</td>\n",
       "      <td>303</td>\n",
       "      <td>4</td>\n",
       "      <td>719</td>\n",
       "      <td>10</td>\n",
       "      <td>104</td>\n",
       "      <td>273</td>\n",
       "      <td>81</td>\n",
       "      <td>378</td>\n",
       "      <td>79</td>\n",
       "      <td>412</td>\n",
       "      <td>1.0</td>\n",
       "      <td>NaN</td>\n",
       "    </tr>\n",
       "  </tbody>\n",
       "</table>\n",
       "</div>"
      ],
      "text/plain": [
       "                             Title  ADJ  ADP  ADV  AUX  CCONJ  DET  INTJ  \\\n",
       "0                       35 Sonnets  342  449  161  235    196  347     4   \n",
       "1  English Poems, Volume 01 (of 2)  283  354  200  195    157  288    16   \n",
       "2  English Poems, Volume 02 (of 2)  233  308  136   95    143  303     4   \n",
       "\n",
       "   NOUN  NUM  PART  PRON  PROPN  PUNCT  SCONJ  VERB    X  SPACE  \n",
       "0   906    9   179   490    130    635    137   576  3.0   70.0  \n",
       "1   839   20   123   430    122    539     73   455  NaN    NaN  \n",
       "2   719   10   104   273     81    378     79   412  1.0    NaN  "
      ]
     },
     "execution_count": 36,
     "metadata": {},
     "output_type": "execute_result"
    }
   ],
   "source": [
    "# Create new dataframe with part of speech counts\n",
    "pos_counts = pd.DataFrame(num_list)\n",
    "columns = list(pos_counts.columns)\n",
    "\n",
    "# Add each text as new column to dataframe\n",
    "idx = 0\n",
    "new_col = pos_analysis_df['Title']\n",
    "pos_counts.insert(loc=idx, column='Title', value=new_col)\n",
    "\n",
    "pos_counts"
   ]
  },
  {
   "cell_type": "markdown",
   "id": "040fc101-66c1-4cbc-88e1-0d86742e0cfc",
   "metadata": {},
   "source": [
    "After obtaining the counts for each part-of-speech tag it would be sensible to verify if the labeling is accurate given the limited language model we are working with.  "
   ]
  },
  {
   "cell_type": "code",
   "execution_count": 42,
   "id": "d00fc173-3ddb-446b-aa33-1dcca1cdf50d",
   "metadata": {},
   "outputs": [
    {
     "data": {
      "text/html": [
       "<div>\n",
       "<style scoped>\n",
       "    .dataframe tbody tr th:only-of-type {\n",
       "        vertical-align: middle;\n",
       "    }\n",
       "\n",
       "    .dataframe tbody tr th {\n",
       "        vertical-align: top;\n",
       "    }\n",
       "\n",
       "    .dataframe thead th {\n",
       "        text-align: right;\n",
       "    }\n",
       "</style>\n",
       "<table border=\"1\" class=\"dataframe\">\n",
       "  <thead>\n",
       "    <tr style=\"text-align: right;\">\n",
       "      <th></th>\n",
       "      <th>Token</th>\n",
       "      <th>POS</th>\n",
       "      <th>Explanation</th>\n",
       "    </tr>\n",
       "  </thead>\n",
       "  <tbody>\n",
       "    <tr>\n",
       "      <th>0</th>\n",
       "      <td>35</td>\n",
       "      <td>NUM</td>\n",
       "      <td>numeral</td>\n",
       "    </tr>\n",
       "    <tr>\n",
       "      <th>1</th>\n",
       "      <td>Sonnets</td>\n",
       "      <td>PROPN</td>\n",
       "      <td>proper noun</td>\n",
       "    </tr>\n",
       "    <tr>\n",
       "      <th>2</th>\n",
       "      <td>by</td>\n",
       "      <td>ADP</td>\n",
       "      <td>adposition</td>\n",
       "    </tr>\n",
       "    <tr>\n",
       "      <th>3</th>\n",
       "      <td>Fernando</td>\n",
       "      <td>PROPN</td>\n",
       "      <td>proper noun</td>\n",
       "    </tr>\n",
       "    <tr>\n",
       "      <th>4</th>\n",
       "      <td>Pessoa</td>\n",
       "      <td>PROPN</td>\n",
       "      <td>proper noun</td>\n",
       "    </tr>\n",
       "    <tr>\n",
       "      <th>5</th>\n",
       "      <td>I.</td>\n",
       "      <td>PROPN</td>\n",
       "      <td>proper noun</td>\n",
       "    </tr>\n",
       "    <tr>\n",
       "      <th>6</th>\n",
       "      <td>Whether</td>\n",
       "      <td>SCONJ</td>\n",
       "      <td>subordinating conjunction</td>\n",
       "    </tr>\n",
       "    <tr>\n",
       "      <th>7</th>\n",
       "      <td>we</td>\n",
       "      <td>PRON</td>\n",
       "      <td>pronoun</td>\n",
       "    </tr>\n",
       "    <tr>\n",
       "      <th>8</th>\n",
       "      <td>write</td>\n",
       "      <td>VERB</td>\n",
       "      <td>verb</td>\n",
       "    </tr>\n",
       "    <tr>\n",
       "      <th>9</th>\n",
       "      <td>or</td>\n",
       "      <td>CCONJ</td>\n",
       "      <td>coordinating conjunction</td>\n",
       "    </tr>\n",
       "    <tr>\n",
       "      <th>10</th>\n",
       "      <td>speak</td>\n",
       "      <td>VERB</td>\n",
       "      <td>verb</td>\n",
       "    </tr>\n",
       "    <tr>\n",
       "      <th>11</th>\n",
       "      <td>or</td>\n",
       "      <td>CCONJ</td>\n",
       "      <td>coordinating conjunction</td>\n",
       "    </tr>\n",
       "    <tr>\n",
       "      <th>12</th>\n",
       "      <td>do</td>\n",
       "      <td>VERB</td>\n",
       "      <td>verb</td>\n",
       "    </tr>\n",
       "    <tr>\n",
       "      <th>13</th>\n",
       "      <td>but</td>\n",
       "      <td>CCONJ</td>\n",
       "      <td>coordinating conjunction</td>\n",
       "    </tr>\n",
       "    <tr>\n",
       "      <th>14</th>\n",
       "      <td>look</td>\n",
       "      <td>VERB</td>\n",
       "      <td>verb</td>\n",
       "    </tr>\n",
       "    <tr>\n",
       "      <th>15</th>\n",
       "      <td>We</td>\n",
       "      <td>PRON</td>\n",
       "      <td>pronoun</td>\n",
       "    </tr>\n",
       "    <tr>\n",
       "      <th>16</th>\n",
       "      <td>are</td>\n",
       "      <td>AUX</td>\n",
       "      <td>auxiliary</td>\n",
       "    </tr>\n",
       "    <tr>\n",
       "      <th>17</th>\n",
       "      <td>ever</td>\n",
       "      <td>ADV</td>\n",
       "      <td>adverb</td>\n",
       "    </tr>\n",
       "    <tr>\n",
       "      <th>18</th>\n",
       "      <td>unapparent</td>\n",
       "      <td>ADJ</td>\n",
       "      <td>adjective</td>\n",
       "    </tr>\n",
       "    <tr>\n",
       "      <th>19</th>\n",
       "      <td>.</td>\n",
       "      <td>PUNCT</td>\n",
       "      <td>punctuation</td>\n",
       "    </tr>\n",
       "    <tr>\n",
       "      <th>20</th>\n",
       "      <td>What</td>\n",
       "      <td>PRON</td>\n",
       "      <td>pronoun</td>\n",
       "    </tr>\n",
       "    <tr>\n",
       "      <th>21</th>\n",
       "      <td>we</td>\n",
       "      <td>PRON</td>\n",
       "      <td>pronoun</td>\n",
       "    </tr>\n",
       "    <tr>\n",
       "      <th>22</th>\n",
       "      <td>are</td>\n",
       "      <td>AUX</td>\n",
       "      <td>auxiliary</td>\n",
       "    </tr>\n",
       "    <tr>\n",
       "      <th>23</th>\n",
       "      <td>Can</td>\n",
       "      <td>AUX</td>\n",
       "      <td>auxiliary</td>\n",
       "    </tr>\n",
       "    <tr>\n",
       "      <th>24</th>\n",
       "      <td>not</td>\n",
       "      <td>PART</td>\n",
       "      <td>particle</td>\n",
       "    </tr>\n",
       "    <tr>\n",
       "      <th>25</th>\n",
       "      <td>be</td>\n",
       "      <td>AUX</td>\n",
       "      <td>auxiliary</td>\n",
       "    </tr>\n",
       "    <tr>\n",
       "      <th>26</th>\n",
       "      <td>transfused</td>\n",
       "      <td>VERB</td>\n",
       "      <td>verb</td>\n",
       "    </tr>\n",
       "    <tr>\n",
       "      <th>27</th>\n",
       "      <td>into</td>\n",
       "      <td>ADP</td>\n",
       "      <td>adposition</td>\n",
       "    </tr>\n",
       "    <tr>\n",
       "      <th>28</th>\n",
       "      <td>word</td>\n",
       "      <td>NOUN</td>\n",
       "      <td>noun</td>\n",
       "    </tr>\n",
       "    <tr>\n",
       "      <th>29</th>\n",
       "      <td>or</td>\n",
       "      <td>CCONJ</td>\n",
       "      <td>coordinating conjunction</td>\n",
       "    </tr>\n",
       "    <tr>\n",
       "      <th>30</th>\n",
       "      <td>book</td>\n",
       "      <td>NOUN</td>\n",
       "      <td>noun</td>\n",
       "    </tr>\n",
       "    <tr>\n",
       "      <th>31</th>\n",
       "      <td>.</td>\n",
       "      <td>PUNCT</td>\n",
       "      <td>punctuation</td>\n",
       "    </tr>\n",
       "    <tr>\n",
       "      <th>32</th>\n",
       "      <td>Our</td>\n",
       "      <td>PRON</td>\n",
       "      <td>pronoun</td>\n",
       "    </tr>\n",
       "    <tr>\n",
       "      <th>33</th>\n",
       "      <td>soul</td>\n",
       "      <td>NOUN</td>\n",
       "      <td>noun</td>\n",
       "    </tr>\n",
       "    <tr>\n",
       "      <th>34</th>\n",
       "      <td>from</td>\n",
       "      <td>ADP</td>\n",
       "      <td>adposition</td>\n",
       "    </tr>\n",
       "    <tr>\n",
       "      <th>35</th>\n",
       "      <td>us</td>\n",
       "      <td>PRON</td>\n",
       "      <td>pronoun</td>\n",
       "    </tr>\n",
       "    <tr>\n",
       "      <th>36</th>\n",
       "      <td>is</td>\n",
       "      <td>AUX</td>\n",
       "      <td>auxiliary</td>\n",
       "    </tr>\n",
       "    <tr>\n",
       "      <th>37</th>\n",
       "      <td>infinitely</td>\n",
       "      <td>ADV</td>\n",
       "      <td>adverb</td>\n",
       "    </tr>\n",
       "    <tr>\n",
       "      <th>38</th>\n",
       "      <td>far</td>\n",
       "      <td>ADV</td>\n",
       "      <td>adverb</td>\n",
       "    </tr>\n",
       "    <tr>\n",
       "      <th>39</th>\n",
       "      <td>.</td>\n",
       "      <td>PUNCT</td>\n",
       "      <td>punctuation</td>\n",
       "    </tr>\n",
       "  </tbody>\n",
       "</table>\n",
       "</div>"
      ],
      "text/plain": [
       "         Token    POS                Explanation\n",
       "0           35    NUM                    numeral\n",
       "1      Sonnets  PROPN                proper noun\n",
       "2           by    ADP                 adposition\n",
       "3     Fernando  PROPN                proper noun\n",
       "4       Pessoa  PROPN                proper noun\n",
       "5           I.  PROPN                proper noun\n",
       "6      Whether  SCONJ  subordinating conjunction\n",
       "7           we   PRON                    pronoun\n",
       "8        write   VERB                       verb\n",
       "9           or  CCONJ   coordinating conjunction\n",
       "10       speak   VERB                       verb\n",
       "11          or  CCONJ   coordinating conjunction\n",
       "12          do   VERB                       verb\n",
       "13         but  CCONJ   coordinating conjunction\n",
       "14        look   VERB                       verb\n",
       "15          We   PRON                    pronoun\n",
       "16         are    AUX                  auxiliary\n",
       "17        ever    ADV                     adverb\n",
       "18  unapparent    ADJ                  adjective\n",
       "19           .  PUNCT                punctuation\n",
       "20        What   PRON                    pronoun\n",
       "21          we   PRON                    pronoun\n",
       "22         are    AUX                  auxiliary\n",
       "23         Can    AUX                  auxiliary\n",
       "24         not   PART                   particle\n",
       "25          be    AUX                  auxiliary\n",
       "26  transfused   VERB                       verb\n",
       "27        into    ADP                 adposition\n",
       "28        word   NOUN                       noun\n",
       "29          or  CCONJ   coordinating conjunction\n",
       "30        book   NOUN                       noun\n",
       "31           .  PUNCT                punctuation\n",
       "32         Our   PRON                    pronoun\n",
       "33        soul   NOUN                       noun\n",
       "34        from    ADP                 adposition\n",
       "35          us   PRON                    pronoun\n",
       "36          is    AUX                  auxiliary\n",
       "37  infinitely    ADV                     adverb\n",
       "38         far    ADV                     adverb\n",
       "39           .  PUNCT                punctuation"
      ]
     },
     "execution_count": 42,
     "metadata": {},
     "output_type": "execute_result"
    }
   ],
   "source": [
    "# Write a function to get token-level details for verifying the labels\n",
    "def extract_pos_tokens(doc):\n",
    "    # Create a DataFrame for each token with its POS details\n",
    "    data = [{'Token': token.text,  \n",
    "             'POS': token.pos_,\n",
    "             'Explanation': spacy.explain(token.pos_)} for token in doc]\n",
    "    return pd.DataFrame(data)\n",
    "\n",
    "# Test example: Inspect POS tagging for the '35 Sonnets' by Fernando Pessoa\n",
    "doc_to_validate = pos_analysis_df['Doc'].iloc[0] \n",
    "pos_token_df = extract_pos_tokens(doc_to_validate)\n",
    "# Display the first 40 words\n",
    "pos_token_df.head(40)"
   ]
  },
  {
   "cell_type": "markdown",
   "id": "c14a9c40-86df-4e00-b43d-898d8ccb43a1",
   "metadata": {},
   "source": [
    "As we can see, the labeling is correct indicating that even the simple English language model is capable to perform this task well. Lastly, let's plot a graph to visualize the distribution of three categories of POS, namely adjectives, verbs and punctuation. "
   ]
  },
  {
   "cell_type": "code",
   "execution_count": 43,
   "id": "eb4eaee2-6100-4f8d-b900-e8e8619ac974",
   "metadata": {},
   "outputs": [
    {
     "data": {
      "application/vnd.plotly.v1+json": {
       "config": {
        "plotlyServerURL": "https://plot.ly"
       },
       "data": [
        {
         "alignmentgroup": "True",
         "hovertemplate": "variable=ADJ<br>Title=%{x}<br>value=%{y}<extra></extra>",
         "legendgroup": "ADJ",
         "marker": {
          "color": "#636efa",
          "pattern": {
           "shape": ""
          }
         },
         "name": "ADJ",
         "offsetgroup": "ADJ",
         "orientation": "v",
         "showlegend": true,
         "textposition": "auto",
         "type": "bar",
         "x": [
          "35 Sonnets",
          "English Poems, Volume 01 (of 2)",
          "English Poems, Volume 02 (of 2)"
         ],
         "xaxis": "x",
         "y": [
          342,
          283,
          233
         ],
         "yaxis": "y"
        },
        {
         "alignmentgroup": "True",
         "hovertemplate": "variable=VERB<br>Title=%{x}<br>value=%{y}<extra></extra>",
         "legendgroup": "VERB",
         "marker": {
          "color": "#EF553B",
          "pattern": {
           "shape": ""
          }
         },
         "name": "VERB",
         "offsetgroup": "VERB",
         "orientation": "v",
         "showlegend": true,
         "textposition": "auto",
         "type": "bar",
         "x": [
          "35 Sonnets",
          "English Poems, Volume 01 (of 2)",
          "English Poems, Volume 02 (of 2)"
         ],
         "xaxis": "x",
         "y": [
          576,
          455,
          412
         ],
         "yaxis": "y"
        },
        {
         "alignmentgroup": "True",
         "hovertemplate": "variable=PUNCT<br>Title=%{x}<br>value=%{y}<extra></extra>",
         "legendgroup": "PUNCT",
         "marker": {
          "color": "#00cc96",
          "pattern": {
           "shape": ""
          }
         },
         "name": "PUNCT",
         "offsetgroup": "PUNCT",
         "orientation": "v",
         "showlegend": true,
         "textposition": "auto",
         "type": "bar",
         "x": [
          "35 Sonnets",
          "English Poems, Volume 01 (of 2)",
          "English Poems, Volume 02 (of 2)"
         ],
         "xaxis": "x",
         "y": [
          635,
          539,
          378
         ],
         "yaxis": "y"
        }
       ],
       "layout": {
        "autosize": true,
        "barmode": "group",
        "legend": {
         "title": {
          "text": "variable"
         },
         "tracegroupgap": 0
        },
        "template": {
         "data": {
          "bar": [
           {
            "error_x": {
             "color": "#2a3f5f"
            },
            "error_y": {
             "color": "#2a3f5f"
            },
            "marker": {
             "line": {
              "color": "#E5ECF6",
              "width": 0.5
             },
             "pattern": {
              "fillmode": "overlay",
              "size": 10,
              "solidity": 0.2
             }
            },
            "type": "bar"
           }
          ],
          "barpolar": [
           {
            "marker": {
             "line": {
              "color": "#E5ECF6",
              "width": 0.5
             },
             "pattern": {
              "fillmode": "overlay",
              "size": 10,
              "solidity": 0.2
             }
            },
            "type": "barpolar"
           }
          ],
          "carpet": [
           {
            "aaxis": {
             "endlinecolor": "#2a3f5f",
             "gridcolor": "white",
             "linecolor": "white",
             "minorgridcolor": "white",
             "startlinecolor": "#2a3f5f"
            },
            "baxis": {
             "endlinecolor": "#2a3f5f",
             "gridcolor": "white",
             "linecolor": "white",
             "minorgridcolor": "white",
             "startlinecolor": "#2a3f5f"
            },
            "type": "carpet"
           }
          ],
          "choropleth": [
           {
            "colorbar": {
             "outlinewidth": 0,
             "ticks": ""
            },
            "type": "choropleth"
           }
          ],
          "contour": [
           {
            "colorbar": {
             "outlinewidth": 0,
             "ticks": ""
            },
            "colorscale": [
             [
              0,
              "#0d0887"
             ],
             [
              0.1111111111111111,
              "#46039f"
             ],
             [
              0.2222222222222222,
              "#7201a8"
             ],
             [
              0.3333333333333333,
              "#9c179e"
             ],
             [
              0.4444444444444444,
              "#bd3786"
             ],
             [
              0.5555555555555556,
              "#d8576b"
             ],
             [
              0.6666666666666666,
              "#ed7953"
             ],
             [
              0.7777777777777778,
              "#fb9f3a"
             ],
             [
              0.8888888888888888,
              "#fdca26"
             ],
             [
              1,
              "#f0f921"
             ]
            ],
            "type": "contour"
           }
          ],
          "contourcarpet": [
           {
            "colorbar": {
             "outlinewidth": 0,
             "ticks": ""
            },
            "type": "contourcarpet"
           }
          ],
          "heatmap": [
           {
            "colorbar": {
             "outlinewidth": 0,
             "ticks": ""
            },
            "colorscale": [
             [
              0,
              "#0d0887"
             ],
             [
              0.1111111111111111,
              "#46039f"
             ],
             [
              0.2222222222222222,
              "#7201a8"
             ],
             [
              0.3333333333333333,
              "#9c179e"
             ],
             [
              0.4444444444444444,
              "#bd3786"
             ],
             [
              0.5555555555555556,
              "#d8576b"
             ],
             [
              0.6666666666666666,
              "#ed7953"
             ],
             [
              0.7777777777777778,
              "#fb9f3a"
             ],
             [
              0.8888888888888888,
              "#fdca26"
             ],
             [
              1,
              "#f0f921"
             ]
            ],
            "type": "heatmap"
           }
          ],
          "heatmapgl": [
           {
            "colorbar": {
             "outlinewidth": 0,
             "ticks": ""
            },
            "colorscale": [
             [
              0,
              "#0d0887"
             ],
             [
              0.1111111111111111,
              "#46039f"
             ],
             [
              0.2222222222222222,
              "#7201a8"
             ],
             [
              0.3333333333333333,
              "#9c179e"
             ],
             [
              0.4444444444444444,
              "#bd3786"
             ],
             [
              0.5555555555555556,
              "#d8576b"
             ],
             [
              0.6666666666666666,
              "#ed7953"
             ],
             [
              0.7777777777777778,
              "#fb9f3a"
             ],
             [
              0.8888888888888888,
              "#fdca26"
             ],
             [
              1,
              "#f0f921"
             ]
            ],
            "type": "heatmapgl"
           }
          ],
          "histogram": [
           {
            "marker": {
             "pattern": {
              "fillmode": "overlay",
              "size": 10,
              "solidity": 0.2
             }
            },
            "type": "histogram"
           }
          ],
          "histogram2d": [
           {
            "colorbar": {
             "outlinewidth": 0,
             "ticks": ""
            },
            "colorscale": [
             [
              0,
              "#0d0887"
             ],
             [
              0.1111111111111111,
              "#46039f"
             ],
             [
              0.2222222222222222,
              "#7201a8"
             ],
             [
              0.3333333333333333,
              "#9c179e"
             ],
             [
              0.4444444444444444,
              "#bd3786"
             ],
             [
              0.5555555555555556,
              "#d8576b"
             ],
             [
              0.6666666666666666,
              "#ed7953"
             ],
             [
              0.7777777777777778,
              "#fb9f3a"
             ],
             [
              0.8888888888888888,
              "#fdca26"
             ],
             [
              1,
              "#f0f921"
             ]
            ],
            "type": "histogram2d"
           }
          ],
          "histogram2dcontour": [
           {
            "colorbar": {
             "outlinewidth": 0,
             "ticks": ""
            },
            "colorscale": [
             [
              0,
              "#0d0887"
             ],
             [
              0.1111111111111111,
              "#46039f"
             ],
             [
              0.2222222222222222,
              "#7201a8"
             ],
             [
              0.3333333333333333,
              "#9c179e"
             ],
             [
              0.4444444444444444,
              "#bd3786"
             ],
             [
              0.5555555555555556,
              "#d8576b"
             ],
             [
              0.6666666666666666,
              "#ed7953"
             ],
             [
              0.7777777777777778,
              "#fb9f3a"
             ],
             [
              0.8888888888888888,
              "#fdca26"
             ],
             [
              1,
              "#f0f921"
             ]
            ],
            "type": "histogram2dcontour"
           }
          ],
          "mesh3d": [
           {
            "colorbar": {
             "outlinewidth": 0,
             "ticks": ""
            },
            "type": "mesh3d"
           }
          ],
          "parcoords": [
           {
            "line": {
             "colorbar": {
              "outlinewidth": 0,
              "ticks": ""
             }
            },
            "type": "parcoords"
           }
          ],
          "pie": [
           {
            "automargin": true,
            "type": "pie"
           }
          ],
          "scatter": [
           {
            "fillpattern": {
             "fillmode": "overlay",
             "size": 10,
             "solidity": 0.2
            },
            "type": "scatter"
           }
          ],
          "scatter3d": [
           {
            "line": {
             "colorbar": {
              "outlinewidth": 0,
              "ticks": ""
             }
            },
            "marker": {
             "colorbar": {
              "outlinewidth": 0,
              "ticks": ""
             }
            },
            "type": "scatter3d"
           }
          ],
          "scattercarpet": [
           {
            "marker": {
             "colorbar": {
              "outlinewidth": 0,
              "ticks": ""
             }
            },
            "type": "scattercarpet"
           }
          ],
          "scattergeo": [
           {
            "marker": {
             "colorbar": {
              "outlinewidth": 0,
              "ticks": ""
             }
            },
            "type": "scattergeo"
           }
          ],
          "scattergl": [
           {
            "marker": {
             "colorbar": {
              "outlinewidth": 0,
              "ticks": ""
             }
            },
            "type": "scattergl"
           }
          ],
          "scattermapbox": [
           {
            "marker": {
             "colorbar": {
              "outlinewidth": 0,
              "ticks": ""
             }
            },
            "type": "scattermapbox"
           }
          ],
          "scatterpolar": [
           {
            "marker": {
             "colorbar": {
              "outlinewidth": 0,
              "ticks": ""
             }
            },
            "type": "scatterpolar"
           }
          ],
          "scatterpolargl": [
           {
            "marker": {
             "colorbar": {
              "outlinewidth": 0,
              "ticks": ""
             }
            },
            "type": "scatterpolargl"
           }
          ],
          "scatterternary": [
           {
            "marker": {
             "colorbar": {
              "outlinewidth": 0,
              "ticks": ""
             }
            },
            "type": "scatterternary"
           }
          ],
          "surface": [
           {
            "colorbar": {
             "outlinewidth": 0,
             "ticks": ""
            },
            "colorscale": [
             [
              0,
              "#0d0887"
             ],
             [
              0.1111111111111111,
              "#46039f"
             ],
             [
              0.2222222222222222,
              "#7201a8"
             ],
             [
              0.3333333333333333,
              "#9c179e"
             ],
             [
              0.4444444444444444,
              "#bd3786"
             ],
             [
              0.5555555555555556,
              "#d8576b"
             ],
             [
              0.6666666666666666,
              "#ed7953"
             ],
             [
              0.7777777777777778,
              "#fb9f3a"
             ],
             [
              0.8888888888888888,
              "#fdca26"
             ],
             [
              1,
              "#f0f921"
             ]
            ],
            "type": "surface"
           }
          ],
          "table": [
           {
            "cells": {
             "fill": {
              "color": "#EBF0F8"
             },
             "line": {
              "color": "white"
             }
            },
            "header": {
             "fill": {
              "color": "#C8D4E3"
             },
             "line": {
              "color": "white"
             }
            },
            "type": "table"
           }
          ]
         },
         "layout": {
          "annotationdefaults": {
           "arrowcolor": "#2a3f5f",
           "arrowhead": 0,
           "arrowwidth": 1
          },
          "autotypenumbers": "strict",
          "coloraxis": {
           "colorbar": {
            "outlinewidth": 0,
            "ticks": ""
           }
          },
          "colorscale": {
           "diverging": [
            [
             0,
             "#8e0152"
            ],
            [
             0.1,
             "#c51b7d"
            ],
            [
             0.2,
             "#de77ae"
            ],
            [
             0.3,
             "#f1b6da"
            ],
            [
             0.4,
             "#fde0ef"
            ],
            [
             0.5,
             "#f7f7f7"
            ],
            [
             0.6,
             "#e6f5d0"
            ],
            [
             0.7,
             "#b8e186"
            ],
            [
             0.8,
             "#7fbc41"
            ],
            [
             0.9,
             "#4d9221"
            ],
            [
             1,
             "#276419"
            ]
           ],
           "sequential": [
            [
             0,
             "#0d0887"
            ],
            [
             0.1111111111111111,
             "#46039f"
            ],
            [
             0.2222222222222222,
             "#7201a8"
            ],
            [
             0.3333333333333333,
             "#9c179e"
            ],
            [
             0.4444444444444444,
             "#bd3786"
            ],
            [
             0.5555555555555556,
             "#d8576b"
            ],
            [
             0.6666666666666666,
             "#ed7953"
            ],
            [
             0.7777777777777778,
             "#fb9f3a"
            ],
            [
             0.8888888888888888,
             "#fdca26"
            ],
            [
             1,
             "#f0f921"
            ]
           ],
           "sequentialminus": [
            [
             0,
             "#0d0887"
            ],
            [
             0.1111111111111111,
             "#46039f"
            ],
            [
             0.2222222222222222,
             "#7201a8"
            ],
            [
             0.3333333333333333,
             "#9c179e"
            ],
            [
             0.4444444444444444,
             "#bd3786"
            ],
            [
             0.5555555555555556,
             "#d8576b"
            ],
            [
             0.6666666666666666,
             "#ed7953"
            ],
            [
             0.7777777777777778,
             "#fb9f3a"
            ],
            [
             0.8888888888888888,
             "#fdca26"
            ],
            [
             1,
             "#f0f921"
            ]
           ]
          },
          "colorway": [
           "#636efa",
           "#EF553B",
           "#00cc96",
           "#ab63fa",
           "#FFA15A",
           "#19d3f3",
           "#FF6692",
           "#B6E880",
           "#FF97FF",
           "#FECB52"
          ],
          "font": {
           "color": "#2a3f5f"
          },
          "geo": {
           "bgcolor": "white",
           "lakecolor": "white",
           "landcolor": "#E5ECF6",
           "showlakes": true,
           "showland": true,
           "subunitcolor": "white"
          },
          "hoverlabel": {
           "align": "left"
          },
          "hovermode": "closest",
          "mapbox": {
           "style": "light"
          },
          "paper_bgcolor": "white",
          "plot_bgcolor": "#E5ECF6",
          "polar": {
           "angularaxis": {
            "gridcolor": "white",
            "linecolor": "white",
            "ticks": ""
           },
           "bgcolor": "#E5ECF6",
           "radialaxis": {
            "gridcolor": "white",
            "linecolor": "white",
            "ticks": ""
           }
          },
          "scene": {
           "xaxis": {
            "backgroundcolor": "#E5ECF6",
            "gridcolor": "white",
            "gridwidth": 2,
            "linecolor": "white",
            "showbackground": true,
            "ticks": "",
            "zerolinecolor": "white"
           },
           "yaxis": {
            "backgroundcolor": "#E5ECF6",
            "gridcolor": "white",
            "gridwidth": 2,
            "linecolor": "white",
            "showbackground": true,
            "ticks": "",
            "zerolinecolor": "white"
           },
           "zaxis": {
            "backgroundcolor": "#E5ECF6",
            "gridcolor": "white",
            "gridwidth": 2,
            "linecolor": "white",
            "showbackground": true,
            "ticks": "",
            "zerolinecolor": "white"
           }
          },
          "shapedefaults": {
           "line": {
            "color": "#2a3f5f"
           }
          },
          "ternary": {
           "aaxis": {
            "gridcolor": "white",
            "linecolor": "white",
            "ticks": ""
           },
           "baxis": {
            "gridcolor": "white",
            "linecolor": "white",
            "ticks": ""
           },
           "bgcolor": "#E5ECF6",
           "caxis": {
            "gridcolor": "white",
            "linecolor": "white",
            "ticks": ""
           }
          },
          "title": {
           "x": 0.05
          },
          "xaxis": {
           "automargin": true,
           "gridcolor": "white",
           "linecolor": "white",
           "ticks": "",
           "title": {
            "standoff": 15
           },
           "zerolinecolor": "white",
           "zerolinewidth": 2
          },
          "yaxis": {
           "automargin": true,
           "gridcolor": "white",
           "linecolor": "white",
           "ticks": "",
           "title": {
            "standoff": 15
           },
           "zerolinecolor": "white",
           "zerolinewidth": 2
          }
         }
        },
        "title": {
         "text": "Part-of-Speech Use in the corpus of Pessoa's works"
        },
        "xaxis": {
         "anchor": "y",
         "autorange": true,
         "domain": [
          0,
          1
         ],
         "range": [
          -0.5,
          2.5
         ],
         "title": {
          "text": "Title"
         },
         "type": "category"
        },
        "yaxis": {
         "anchor": "x",
         "autorange": true,
         "domain": [
          0,
          1
         ],
         "range": [
          0,
          668.421052631579
         ],
         "title": {
          "text": "value"
         },
         "type": "linear"
        }
       }
      },
      "image/png": "[encoded data removed]",
      "text/html": [
       "<div>                            <div id=\"cf5c0373-ab8b-42fc-bcf7-2eed637bc30b\" class=\"plotly-graph-div\" style=\"height:525px; width:100%;\"></div>            <script type=\"text/javascript\">                require([\"plotly\"], function(Plotly) {                    window.PLOTLYENV=window.PLOTLYENV || {};                                    if (document.getElementById(\"cf5c0373-ab8b-42fc-bcf7-2eed637bc30b\")) {                    Plotly.newPlot(                        \"cf5c0373-ab8b-42fc-bcf7-2eed637bc30b\",                        [{\"alignmentgroup\":\"True\",\"hovertemplate\":\"variable=ADJ\\u003cbr\\u003eTitle=%{x}\\u003cbr\\u003evalue=%{y}\\u003cextra\\u003e\\u003c\\u002fextra\\u003e\",\"legendgroup\":\"ADJ\",\"marker\":{\"color\":\"#636efa\",\"pattern\":{\"shape\":\"\"}},\"name\":\"ADJ\",\"offsetgroup\":\"ADJ\",\"orientation\":\"v\",\"showlegend\":true,\"textposition\":\"auto\",\"x\":[\"35 Sonnets\",\"English Poems, Volume 01 (of 2)\",\"English Poems, Volume 02 (of 2)\"],\"xaxis\":\"x\",\"y\":[342,283,233],\"yaxis\":\"y\",\"type\":\"bar\"},{\"alignmentgroup\":\"True\",\"hovertemplate\":\"variable=VERB\\u003cbr\\u003eTitle=%{x}\\u003cbr\\u003evalue=%{y}\\u003cextra\\u003e\\u003c\\u002fextra\\u003e\",\"legendgroup\":\"VERB\",\"marker\":{\"color\":\"#EF553B\",\"pattern\":{\"shape\":\"\"}},\"name\":\"VERB\",\"offsetgroup\":\"VERB\",\"orientation\":\"v\",\"showlegend\":true,\"textposition\":\"auto\",\"x\":[\"35 Sonnets\",\"English Poems, Volume 01 (of 2)\",\"English Poems, Volume 02 (of 2)\"],\"xaxis\":\"x\",\"y\":[576,455,412],\"yaxis\":\"y\",\"type\":\"bar\"},{\"alignmentgroup\":\"True\",\"hovertemplate\":\"variable=PUNCT\\u003cbr\\u003eTitle=%{x}\\u003cbr\\u003evalue=%{y}\\u003cextra\\u003e\\u003c\\u002fextra\\u003e\",\"legendgroup\":\"PUNCT\",\"marker\":{\"color\":\"#00cc96\",\"pattern\":{\"shape\":\"\"}},\"name\":\"PUNCT\",\"offsetgroup\":\"PUNCT\",\"orientation\":\"v\",\"showlegend\":true,\"textposition\":\"auto\",\"x\":[\"35 Sonnets\",\"English Poems, Volume 01 (of 2)\",\"English Poems, Volume 02 (of 2)\"],\"xaxis\":\"x\",\"y\":[635,539,378],\"yaxis\":\"y\",\"type\":\"bar\"}],                        {\"template\":{\"data\":{\"histogram2dcontour\":[{\"type\":\"histogram2dcontour\",\"colorbar\":{\"outlinewidth\":0,\"ticks\":\"\"},\"colorscale\":[[0.0,\"#0d0887\"],[0.1111111111111111,\"#46039f\"],[0.2222222222222222,\"#7201a8\"],[0.3333333333333333,\"#9c179e\"],[0.4444444444444444,\"#bd3786\"],[0.5555555555555556,\"#d8576b\"],[0.6666666666666666,\"#ed7953\"],[0.7777777777777778,\"#fb9f3a\"],[0.8888888888888888,\"#fdca26\"],[1.0,\"#f0f921\"]]}],\"choropleth\":[{\"type\":\"choropleth\",\"colorbar\":{\"outlinewidth\":0,\"ticks\":\"\"}}],\"histogram2d\":[{\"type\":\"histogram2d\",\"colorbar\":{\"outlinewidth\":0,\"ticks\":\"\"},\"colorscale\":[[0.0,\"#0d0887\"],[0.1111111111111111,\"#46039f\"],[0.2222222222222222,\"#7201a8\"],[0.3333333333333333,\"#9c179e\"],[0.4444444444444444,\"#bd3786\"],[0.5555555555555556,\"#d8576b\"],[0.6666666666666666,\"#ed7953\"],[0.7777777777777778,\"#fb9f3a\"],[0.8888888888888888,\"#fdca26\"],[1.0,\"#f0f921\"]]}],\"heatmap\":[{\"type\":\"heatmap\",\"colorbar\":{\"outlinewidth\":0,\"ticks\":\"\"},\"colorscale\":[[0.0,\"#0d0887\"],[0.1111111111111111,\"#46039f\"],[0.2222222222222222,\"#7201a8\"],[0.3333333333333333,\"#9c179e\"],[0.4444444444444444,\"#bd3786\"],[0.5555555555555556,\"#d8576b\"],[0.6666666666666666,\"#ed7953\"],[0.7777777777777778,\"#fb9f3a\"],[0.8888888888888888,\"#fdca26\"],[1.0,\"#f0f921\"]]}],\"heatmapgl\":[{\"type\":\"heatmapgl\",\"colorbar\":{\"outlinewidth\":0,\"ticks\":\"\"},\"colorscale\":[[0.0,\"#0d0887\"],[0.1111111111111111,\"#46039f\"],[0.2222222222222222,\"#7201a8\"],[0.3333333333333333,\"#9c179e\"],[0.4444444444444444,\"#bd3786\"],[0.5555555555555556,\"#d8576b\"],[0.6666666666666666,\"#ed7953\"],[0.7777777777777778,\"#fb9f3a\"],[0.8888888888888888,\"#fdca26\"],[1.0,\"#f0f921\"]]}],\"contourcarpet\":[{\"type\":\"contourcarpet\",\"colorbar\":{\"outlinewidth\":0,\"ticks\":\"\"}}],\"contour\":[{\"type\":\"contour\",\"colorbar\":{\"outlinewidth\":0,\"ticks\":\"\"},\"colorscale\":[[0.0,\"#0d0887\"],[0.1111111111111111,\"#46039f\"],[0.2222222222222222,\"#7201a8\"],[0.3333333333333333,\"#9c179e\"],[0.4444444444444444,\"#bd3786\"],[0.5555555555555556,\"#d8576b\"],[0.6666666666666666,\"#ed7953\"],[0.7777777777777778,\"#fb9f3a\"],[0.8888888888888888,\"#fdca26\"],[1.0,\"#f0f921\"]]}],\"surface\":[{\"type\":\"surface\",\"colorbar\":{\"outlinewidth\":0,\"ticks\":\"\"},\"colorscale\":[[0.0,\"#0d0887\"],[0.1111111111111111,\"#46039f\"],[0.2222222222222222,\"#7201a8\"],[0.3333333333333333,\"#9c179e\"],[0.4444444444444444,\"#bd3786\"],[0.5555555555555556,\"#d8576b\"],[0.6666666666666666,\"#ed7953\"],[0.7777777777777778,\"#fb9f3a\"],[0.8888888888888888,\"#fdca26\"],[1.0,\"#f0f921\"]]}],\"mesh3d\":[{\"type\":\"mesh3d\",\"colorbar\":{\"outlinewidth\":0,\"ticks\":\"\"}}],\"scatter\":[{\"fillpattern\":{\"fillmode\":\"overlay\",\"size\":10,\"solidity\":0.2},\"type\":\"scatter\"}],\"parcoords\":[{\"type\":\"parcoords\",\"line\":{\"colorbar\":{\"outlinewidth\":0,\"ticks\":\"\"}}}],\"scatterpolargl\":[{\"type\":\"scatterpolargl\",\"marker\":{\"colorbar\":{\"outlinewidth\":0,\"ticks\":\"\"}}}],\"bar\":[{\"error_x\":{\"color\":\"#2a3f5f\"},\"error_y\":{\"color\":\"#2a3f5f\"},\"marker\":{\"line\":{\"color\":\"#E5ECF6\",\"width\":0.5},\"pattern\":{\"fillmode\":\"overlay\",\"size\":10,\"solidity\":0.2}},\"type\":\"bar\"}],\"scattergeo\":[{\"type\":\"scattergeo\",\"marker\":{\"colorbar\":{\"outlinewidth\":0,\"ticks\":\"\"}}}],\"scatterpolar\":[{\"type\":\"scatterpolar\",\"marker\":{\"colorbar\":{\"outlinewidth\":0,\"ticks\":\"\"}}}],\"histogram\":[{\"marker\":{\"pattern\":{\"fillmode\":\"overlay\",\"size\":10,\"solidity\":0.2}},\"type\":\"histogram\"}],\"scattergl\":[{\"type\":\"scattergl\",\"marker\":{\"colorbar\":{\"outlinewidth\":0,\"ticks\":\"\"}}}],\"scatter3d\":[{\"type\":\"scatter3d\",\"line\":{\"colorbar\":{\"outlinewidth\":0,\"ticks\":\"\"}},\"marker\":{\"colorbar\":{\"outlinewidth\":0,\"ticks\":\"\"}}}],\"scattermapbox\":[{\"type\":\"scattermapbox\",\"marker\":{\"colorbar\":{\"outlinewidth\":0,\"ticks\":\"\"}}}],\"scatterternary\":[{\"type\":\"scatterternary\",\"marker\":{\"colorbar\":{\"outlinewidth\":0,\"ticks\":\"\"}}}],\"scattercarpet\":[{\"type\":\"scattercarpet\",\"marker\":{\"colorbar\":{\"outlinewidth\":0,\"ticks\":\"\"}}}],\"carpet\":[{\"aaxis\":{\"endlinecolor\":\"#2a3f5f\",\"gridcolor\":\"white\",\"linecolor\":\"white\",\"minorgridcolor\":\"white\",\"startlinecolor\":\"#2a3f5f\"},\"baxis\":{\"endlinecolor\":\"#2a3f5f\",\"gridcolor\":\"white\",\"linecolor\":\"white\",\"minorgridcolor\":\"white\",\"startlinecolor\":\"#2a3f5f\"},\"type\":\"carpet\"}],\"table\":[{\"cells\":{\"fill\":{\"color\":\"#EBF0F8\"},\"line\":{\"color\":\"white\"}},\"header\":{\"fill\":{\"color\":\"#C8D4E3\"},\"line\":{\"color\":\"white\"}},\"type\":\"table\"}],\"barpolar\":[{\"marker\":{\"line\":{\"color\":\"#E5ECF6\",\"width\":0.5},\"pattern\":{\"fillmode\":\"overlay\",\"size\":10,\"solidity\":0.2}},\"type\":\"barpolar\"}],\"pie\":[{\"automargin\":true,\"type\":\"pie\"}]},\"layout\":{\"autotypenumbers\":\"strict\",\"colorway\":[\"#636efa\",\"#EF553B\",\"#00cc96\",\"#ab63fa\",\"#FFA15A\",\"#19d3f3\",\"#FF6692\",\"#B6E880\",\"#FF97FF\",\"#FECB52\"],\"font\":{\"color\":\"#2a3f5f\"},\"hovermode\":\"closest\",\"hoverlabel\":{\"align\":\"left\"},\"paper_bgcolor\":\"white\",\"plot_bgcolor\":\"#E5ECF6\",\"polar\":{\"bgcolor\":\"#E5ECF6\",\"angularaxis\":{\"gridcolor\":\"white\",\"linecolor\":\"white\",\"ticks\":\"\"},\"radialaxis\":{\"gridcolor\":\"white\",\"linecolor\":\"white\",\"ticks\":\"\"}},\"ternary\":{\"bgcolor\":\"#E5ECF6\",\"aaxis\":{\"gridcolor\":\"white\",\"linecolor\":\"white\",\"ticks\":\"\"},\"baxis\":{\"gridcolor\":\"white\",\"linecolor\":\"white\",\"ticks\":\"\"},\"caxis\":{\"gridcolor\":\"white\",\"linecolor\":\"white\",\"ticks\":\"\"}},\"coloraxis\":{\"colorbar\":{\"outlinewidth\":0,\"ticks\":\"\"}},\"colorscale\":{\"sequential\":[[0.0,\"#0d0887\"],[0.1111111111111111,\"#46039f\"],[0.2222222222222222,\"#7201a8\"],[0.3333333333333333,\"#9c179e\"],[0.4444444444444444,\"#bd3786\"],[0.5555555555555556,\"#d8576b\"],[0.6666666666666666,\"#ed7953\"],[0.7777777777777778,\"#fb9f3a\"],[0.8888888888888888,\"#fdca26\"],[1.0,\"#f0f921\"]],\"sequentialminus\":[[0.0,\"#0d0887\"],[0.1111111111111111,\"#46039f\"],[0.2222222222222222,\"#7201a8\"],[0.3333333333333333,\"#9c179e\"],[0.4444444444444444,\"#bd3786\"],[0.5555555555555556,\"#d8576b\"],[0.6666666666666666,\"#ed7953\"],[0.7777777777777778,\"#fb9f3a\"],[0.8888888888888888,\"#fdca26\"],[1.0,\"#f0f921\"]],\"diverging\":[[0,\"#8e0152\"],[0.1,\"#c51b7d\"],[0.2,\"#de77ae\"],[0.3,\"#f1b6da\"],[0.4,\"#fde0ef\"],[0.5,\"#f7f7f7\"],[0.6,\"#e6f5d0\"],[0.7,\"#b8e186\"],[0.8,\"#7fbc41\"],[0.9,\"#4d9221\"],[1,\"#276419\"]]},\"xaxis\":{\"gridcolor\":\"white\",\"linecolor\":\"white\",\"ticks\":\"\",\"title\":{\"standoff\":15},\"zerolinecolor\":\"white\",\"automargin\":true,\"zerolinewidth\":2},\"yaxis\":{\"gridcolor\":\"white\",\"linecolor\":\"white\",\"ticks\":\"\",\"title\":{\"standoff\":15},\"zerolinecolor\":\"white\",\"automargin\":true,\"zerolinewidth\":2},\"scene\":{\"xaxis\":{\"backgroundcolor\":\"#E5ECF6\",\"gridcolor\":\"white\",\"linecolor\":\"white\",\"showbackground\":true,\"ticks\":\"\",\"zerolinecolor\":\"white\",\"gridwidth\":2},\"yaxis\":{\"backgroundcolor\":\"#E5ECF6\",\"gridcolor\":\"white\",\"linecolor\":\"white\",\"showbackground\":true,\"ticks\":\"\",\"zerolinecolor\":\"white\",\"gridwidth\":2},\"zaxis\":{\"backgroundcolor\":\"#E5ECF6\",\"gridcolor\":\"white\",\"linecolor\":\"white\",\"showbackground\":true,\"ticks\":\"\",\"zerolinecolor\":\"white\",\"gridwidth\":2}},\"shapedefaults\":{\"line\":{\"color\":\"#2a3f5f\"}},\"annotationdefaults\":{\"arrowcolor\":\"#2a3f5f\",\"arrowhead\":0,\"arrowwidth\":1},\"geo\":{\"bgcolor\":\"white\",\"landcolor\":\"#E5ECF6\",\"subunitcolor\":\"white\",\"showland\":true,\"showlakes\":true,\"lakecolor\":\"white\"},\"title\":{\"x\":0.05},\"mapbox\":{\"style\":\"light\"}}},\"xaxis\":{\"anchor\":\"y\",\"domain\":[0.0,1.0],\"title\":{\"text\":\"Title\"}},\"yaxis\":{\"anchor\":\"x\",\"domain\":[0.0,1.0],\"title\":{\"text\":\"value\"}},\"legend\":{\"title\":{\"text\":\"variable\"},\"tracegroupgap\":0},\"title\":{\"text\":\"Part-of-Speech Use in the corpus of Pessoa's works\"},\"barmode\":\"group\"},                        {\"responsive\": true}                    ).then(function(){\n",
       "                            \n",
       "var gd = document.getElementById('cf5c0373-ab8b-42fc-bcf7-2eed637bc30b');\n",
       "var x = new MutationObserver(function (mutations, observer) {{\n",
       "        var display = window.getComputedStyle(gd).display;\n",
       "        if (!display || display === 'none') {{\n",
       "            console.log([gd, 'removed!']);\n",
       "            Plotly.purge(gd);\n",
       "            observer.disconnect();\n",
       "        }}\n",
       "}});\n",
       "\n",
       "// Listen for the removal of the full notebook cells\n",
       "var notebookContainer = gd.closest('#notebook-container');\n",
       "if (notebookContainer) {{\n",
       "    x.observe(notebookContainer, {childList: true});\n",
       "}}\n",
       "\n",
       "// Listen for the clearing of the current output cell\n",
       "var outputEl = gd.closest('.output');\n",
       "if (outputEl) {{\n",
       "    x.observe(outputEl, {childList: true});\n",
       "}}\n",
       "\n",
       "                        })                };                });            </script>        </div>"
      ]
     },
     "metadata": {},
     "output_type": "display_data"
    }
   ],
   "source": [
    "# Use plotly to plot part-of-speech use per text\n",
    "fig = px.bar(pos_counts, x=\"Title\", y=[\"ADJ\", 'VERB', \"PUNCT\"], title=\"Part-of-Speech Use in the corpus of Pessoa's works\", barmode='group')\n",
    "fig.show()"
   ]
  },
  {
   "cell_type": "markdown",
   "id": "ca1b00af-ff2f-4d63-a619-132edb9b0937",
   "metadata": {},
   "source": [
    "### Conclusion: \n",
    "\n",
    "This marks the end of this Notebook. In it, we explored various ways of performing data exploration and tagging using spaCy. As presented above, due to the limited language model that was used for this exercise, we encountered some errors, specifically in the model's capacity to determine Named Entities in our corpus. On the other hand, it performed well in labeling each token to its corresponding part-of-speech tag, making it reliable for digital humanists who would like to investigate the uses of various POS in Pessoa's texts. It remains imperative to experiment with more advanced language models available in spaCy to assert a more nuanced opinion about its labeling capacities."
   ]
  }
 ],
 "metadata": {
  "kernelspec": {
   "display_name": "Python 3 (ipykernel)",
   "language": "python",
   "name": "python3"
  },
  "language_info": {
   "codemirror_mode": {
    "name": "ipython",
    "version": 3
   },
   "file_extension": ".py",
   "mimetype": "text/x-python",
   "name": "python",
   "nbconvert_exporter": "python",
   "pygments_lexer": "ipython3",
   "version": "3.12.7"
  }
 },
 "nbformat": 4,
 "nbformat_minor": 5
}
